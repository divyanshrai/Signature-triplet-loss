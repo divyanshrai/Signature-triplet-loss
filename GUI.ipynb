{
 "cells": [
  {
   "cell_type": "code",
   "execution_count": 25,
   "metadata": {},
   "outputs": [],
   "source": [
    "from tkinter import * \n",
    "from tkinter import filedialog,messagebox\n",
    "import cv2\n",
    "import os\n",
    "import numpy as np\n",
    "import pandas as pd\n",
    "import csv\n",
    "import scipy.stats\n",
    "import math"
   ]
  },
  {
   "cell_type": "code",
   "execution_count": 2,
   "metadata": {},
   "outputs": [
    {
     "name": "stderr",
     "output_type": "stream",
     "text": [
      "C:\\Users\\hp\\Anaconda3\\lib\\site-packages\\h5py\\__init__.py:36: FutureWarning: Conversion of the second argument of issubdtype from `float` to `np.floating` is deprecated. In future, it will be treated as `np.float64 == np.dtype(float).type`.\n",
      "  from ._conv import register_converters as _register_converters\n",
      "Using TensorFlow backend.\n"
     ]
    }
   ],
   "source": [
    "from keras import applications\n",
    "from keras.models import Model\n",
    "from keras.models import load_model\n",
    "from keras.layers import Input,concatenate"
   ]
  },
  {
   "cell_type": "code",
   "execution_count": 3,
   "metadata": {},
   "outputs": [],
   "source": [
    "img_width, img_height, channels = 224, 224, 3\n",
    "dim = (img_width, img_height)"
   ]
  },
  {
   "cell_type": "code",
   "execution_count": 4,
   "metadata": {},
   "outputs": [],
   "source": [
    "model = applications.vgg19.VGG19(weights='imagenet', include_top=False, pooling='max')\n",
    "for layer in model.layers[:13]:\n",
    "    layer.trainable = False"
   ]
  },
  {
   "cell_type": "code",
   "execution_count": 5,
   "metadata": {},
   "outputs": [],
   "source": [
    "anchor_in = Input(shape=(img_width, img_height, channels))\n",
    "pos_in = Input(shape=(img_width, img_height, channels))\n",
    "neg_in = Input(shape=(img_width, img_height, channels))\n",
    "\n",
    "anchor_out = model(anchor_in)\n",
    "pos_out = model(pos_in)\n",
    "neg_out = model(neg_in)\n",
    "merged_vector = concatenate([anchor_out, pos_out, neg_out],axis=1)\n",
    "\n",
    "model = Model(inputs=[anchor_in, pos_in, neg_in], outputs=merged_vector)"
   ]
  },
  {
   "cell_type": "code",
   "execution_count": 6,
   "metadata": {},
   "outputs": [],
   "source": [
    "model.load_weights('C:/Users/hp/Python notebooks/Hacks/Axis bank/models/model_weights_56_59.h5')"
   ]
  },
  {
   "cell_type": "code",
   "execution_count": 7,
   "metadata": {},
   "outputs": [],
   "source": [
    "def to_rgb(img):\n",
    "    img = cv2.resize(img, dim, interpolation = cv2.INTER_AREA) \n",
    "    img_rgb = np.asarray(np.dstack((img, img, img)), dtype=np.uint8)\n",
    "    return img_rgb\n",
    "\n",
    "def returnimages(path):\n",
    "    image=cv2.imread(path)                  #bringing the image\n",
    "    image=cv2.resize(image, (img_width, img_height))\n",
    "    image=cv2.cvtColor(image, cv2.COLOR_BGR2GRAY)\n",
    "    image=to_rgb(image).reshape(1,img_width, img_height,3)/255.0       #resizing and normalizing    \n",
    "    return image\n",
    "\n"
   ]
  },
  {
   "cell_type": "code",
   "execution_count": null,
   "metadata": {},
   "outputs": [],
   "source": []
  },
  {
   "cell_type": "code",
   "execution_count": null,
   "metadata": {
    "scrolled": true
   },
   "outputs": [],
   "source": []
  },
  {
   "cell_type": "code",
   "execution_count": 22,
   "metadata": {},
   "outputs": [],
   "source": [
    "def openaccount():\n",
    "    \n",
    "    global dirc\n",
    "    global e\n",
    "    \n",
    "    \n",
    "    top.withdraw()\n",
    "    acc = Tk(className='Accepting a new Signature')\n",
    "    \n",
    "\n",
    "    \n",
    "    #getting the image\n",
    "    messagebox.showinfo(\"Title\", \"Please select the signature of the account holder\")\n",
    "    img = filedialog.askopenfilename()\n",
    "    anchor = returnimages(img)\n",
    "    \n",
    "    \n",
    "    #passing image through model    \n",
    "    x=model.predict([anchor,anchor,anchor])\n",
    "    x=x[0,0:512]\n",
    "    \n",
    "    \n",
    "    #getting account number!!!!!!!!!!!!!!!!!!!!!!!!!!!!!!!!!!!!!!!!!!!!!!!!!!\n",
    "    accno=e.get()\n",
    "    \n",
    "    \n",
    "    #setting directory to bankdetails folder and creating one if it doesn't exist in the specified mod\n",
    "    y=dirc+accno+\".csv\"\n",
    "    columns=\"512 magic\"\n",
    "    np.savetxt(y,x, header=columns,comments=\"\")\n",
    "    \n",
    "    #destroying acc activity\n",
    "    acc.destroy()\n",
    "    \n",
    "    #showing back the basic top activity\n",
    "    top.deiconify()"
   ]
  },
  {
   "cell_type": "code",
   "execution_count": 23,
   "metadata": {},
   "outputs": [],
   "source": [
    "def checkaccount():\n",
    "    top.withdraw()\n",
    "    \n",
    "    global dirc\n",
    "    global e\n",
    "#    string = dirc.get()\n",
    "    \n",
    "    ck= Tk(className='Checking a Signature against an account no')\n",
    "    \n",
    "    #getting the directory of bank details file - to be done only once, figure out how\n",
    "    #messagebox.showinfo(\"Title\", \"Please select the directory pointing to bankdetails folder\")\n",
    "    #dirc = filedialog.askdirectory()\n",
    "    \n",
    "    #getting the image\n",
    "    messagebox.showinfo(\"Check\", \"Please select the image to check\")\n",
    "    check_img = filedialog.askopenfilename()\n",
    "    check = returnimages(check_img)\n",
    "    \n",
    "    #passing image through model\n",
    "    x=model.predict([check,check,check])\n",
    "    x=x[0,0:512]\n",
    "    \n",
    "    #getting account number!!!!!!!!!!!!!!!!!!!!!!!!!!!!!!!!!!!!!!!!!!!!!!!!!!\n",
    "    accno=e.get()\n",
    "    \n",
    "    a=pd.read_csv(dirc+\"/\"+accno+\".csv\")\n",
    "    t=np.array([])\n",
    "    for i in range(512):\n",
    "        t=np.append(t,a.loc[i])\n",
    "    dist=np.linalg.norm(t-x)\n",
    "    \n",
    "    mu = 38\n",
    "    variance = 15.99\n",
    "    sigma = math.sqrt(variance)\n",
    "    \n",
    "    if(dist>=38):\n",
    "        t=1-scipy.stats.norm.pdf(dist, mu, sigma)*10\n",
    "        print(\"Prob of it being fake is \",60+(40*t))\n",
    "    else:\n",
    "        t=1-scipy.stats.norm.pdf(dist, mu, sigma)*10\n",
    "        print(\"Prob of it being genuine is \",60+(40*t))\n",
    "    \n",
    "    \n",
    "    \n",
    "    \n",
    "    \n",
    "    #destroying check activity\n",
    "    ck.destroy()\n",
    "    \n",
    "    #showing back the basic top activity\n",
    "    top.deiconify()"
   ]
  },
  {
   "cell_type": "code",
   "execution_count": null,
   "metadata": {},
   "outputs": [],
   "source": []
  },
  {
   "cell_type": "code",
   "execution_count": 26,
   "metadata": {},
   "outputs": [
    {
     "name": "stdout",
     "output_type": "stream",
     "text": [
      "Prob of it being fake is  83.91575735574193\n",
      "43.39076613593331\n",
      "Prob of it being genuine is  60.71858471800182\n",
      "37.289330083219404\n",
      "Prob of it being genuine is  99.5074580427086\n",
      "26.144910723124248\n"
     ]
    },
    {
     "ename": "KeyboardInterrupt",
     "evalue": "",
     "output_type": "error",
     "traceback": [
      "\u001b[1;31m---------------------------------------------------------------------------\u001b[0m",
      "\u001b[1;31mKeyboardInterrupt\u001b[0m                         Traceback (most recent call last)",
      "\u001b[1;32m<ipython-input-26-d1efffba7bb1>\u001b[0m in \u001b[0;36m<module>\u001b[1;34m()\u001b[0m\n\u001b[0;32m     39\u001b[0m \u001b[0mc\u001b[0m\u001b[1;33m.\u001b[0m\u001b[0mpack\u001b[0m\u001b[1;33m(\u001b[0m\u001b[1;33m)\u001b[0m\u001b[1;33m\u001b[0m\u001b[0m\n\u001b[0;32m     40\u001b[0m \u001b[1;33m\u001b[0m\u001b[0m\n\u001b[1;32m---> 41\u001b[1;33m \u001b[0mmainloop\u001b[0m\u001b[1;33m(\u001b[0m\u001b[1;33m)\u001b[0m\u001b[1;33m\u001b[0m\u001b[0m\n\u001b[0m",
      "\u001b[1;32m~\\Anaconda3\\lib\\tkinter\\__init__.py\u001b[0m in \u001b[0;36mmainloop\u001b[1;34m(n)\u001b[0m\n\u001b[0;32m    555\u001b[0m \u001b[1;32mdef\u001b[0m \u001b[0mmainloop\u001b[0m\u001b[1;33m(\u001b[0m\u001b[0mn\u001b[0m\u001b[1;33m=\u001b[0m\u001b[1;36m0\u001b[0m\u001b[1;33m)\u001b[0m\u001b[1;33m:\u001b[0m\u001b[1;33m\u001b[0m\u001b[0m\n\u001b[0;32m    556\u001b[0m     \u001b[1;34m\"\"\"Run the main loop of Tcl.\"\"\"\u001b[0m\u001b[1;33m\u001b[0m\u001b[0m\n\u001b[1;32m--> 557\u001b[1;33m     \u001b[0m_default_root\u001b[0m\u001b[1;33m.\u001b[0m\u001b[0mtk\u001b[0m\u001b[1;33m.\u001b[0m\u001b[0mmainloop\u001b[0m\u001b[1;33m(\u001b[0m\u001b[0mn\u001b[0m\u001b[1;33m)\u001b[0m\u001b[1;33m\u001b[0m\u001b[0m\n\u001b[0m\u001b[0;32m    558\u001b[0m \u001b[1;33m\u001b[0m\u001b[0m\n\u001b[0;32m    559\u001b[0m \u001b[0mgetint\u001b[0m \u001b[1;33m=\u001b[0m \u001b[0mint\u001b[0m\u001b[1;33m\u001b[0m\u001b[0m\n",
      "\u001b[1;31mKeyboardInterrupt\u001b[0m: "
     ]
    }
   ],
   "source": [
    "dirc=\"\"\n",
    "#mod=\"D:/Hacks/Axis bank signatures/\"\n",
    "    \n",
    "def closetop():\n",
    "    top.destroy()\n",
    "    \n",
    "top = Tk(className='Axis Signature Verification Dashboard')\n",
    "# Code to add widgets will go here...\n",
    "#top.withdraw() # Close the root window\n",
    "\n",
    "a = Button(top, text = 'Open a New Account', width = 25 , height = 5,command=openaccount)\n",
    "b = Button(top, text = 'Check a signature', width = 25 , height = 5,command=checkaccount)\n",
    "c = Button(top, text = 'Close', width = 25 , height = 5,command=closetop)\n",
    "\n",
    "messagebox.showinfo(\"Title\", \"Please select the place where you'd like the bankdetails to be stored or where the bankdetails folder exists\")\n",
    "dirc = filedialog.askdirectory()\n",
    "\n",
    "if dirc.endswith(\"bankdetails\"):\n",
    "    dirc=dirc+\"/\"\n",
    "elif dirc.endswith(\"bankdetails/\"):\n",
    "    dirc=dirc\n",
    "else:\n",
    "    os.makedirs(dirc+\"bankdetails\")\n",
    "    dirc=dirc+\"bankdetails/\"\n",
    "    \n",
    "w = Label(top, text=\"Please enter the account number you wish to work with in the text area\")\n",
    "w.pack()\n",
    "\n",
    "e = Entry(top)\n",
    "e.pack()\n",
    "e.focus_set()\n",
    "    \n",
    "\n",
    "\n",
    "\n",
    "\n",
    "a.pack()\n",
    "b.pack()\n",
    "c.pack()\n",
    "\n",
    "mainloop()"
   ]
  },
  {
   "cell_type": "code",
   "execution_count": null,
   "metadata": {},
   "outputs": [],
   "source": []
  },
  {
   "cell_type": "code",
   "execution_count": null,
   "metadata": {},
   "outputs": [],
   "source": []
  },
  {
   "cell_type": "markdown",
   "metadata": {},
   "source": []
  },
  {
   "cell_type": "code",
   "execution_count": null,
   "metadata": {},
   "outputs": [],
   "source": []
  },
  {
   "cell_type": "code",
   "execution_count": null,
   "metadata": {},
   "outputs": [],
   "source": [
    "3"
   ]
  },
  {
   "cell_type": "code",
   "execution_count": null,
   "metadata": {},
   "outputs": [],
   "source": []
  }
 ],
 "metadata": {
  "kernelspec": {
   "display_name": "Python 3",
   "language": "python",
   "name": "python3"
  },
  "language_info": {
   "codemirror_mode": {
    "name": "ipython",
    "version": 3
   },
   "file_extension": ".py",
   "mimetype": "text/x-python",
   "name": "python",
   "nbconvert_exporter": "python",
   "pygments_lexer": "ipython3",
   "version": "3.6.5"
  }
 },
 "nbformat": 4,
 "nbformat_minor": 2
}
