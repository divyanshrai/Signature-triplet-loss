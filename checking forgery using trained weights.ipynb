{
 "cells": [
  {
   "cell_type": "code",
   "execution_count": 1,
   "metadata": {},
   "outputs": [],
   "source": [
    "import cv2\n",
    "import numpy as np\n",
    "import matplotlib.pyplot as plt\n",
    "from PIL import Image, ImageChops"
   ]
  },
  {
   "cell_type": "code",
   "execution_count": 2,
   "metadata": {},
   "outputs": [
    {
     "name": "stderr",
     "output_type": "stream",
     "text": [
      "C:\\Users\\hp\\Anaconda3\\lib\\site-packages\\h5py\\__init__.py:36: FutureWarning: Conversion of the second argument of issubdtype from `float` to `np.floating` is deprecated. In future, it will be treated as `np.float64 == np.dtype(float).type`.\n",
      "  from ._conv import register_converters as _register_converters\n",
      "Using TensorFlow backend.\n"
     ]
    }
   ],
   "source": [
    "from keras import applications\n",
    "from keras.models import Model,load_model\n",
    "from keras.layers import Input,concatenate"
   ]
  },
  {
   "cell_type": "code",
   "execution_count": 3,
   "metadata": {},
   "outputs": [],
   "source": [
    "model = applications.vgg19.VGG19(weights=None, include_top=False, pooling='max')\n",
    "for layer in model.layers[:15]:\n",
    "    layer.trainable = False"
   ]
  },
  {
   "cell_type": "code",
   "execution_count": 4,
   "metadata": {},
   "outputs": [],
   "source": [
    "img_width, img_height, channels = 224, 224, 3\n",
    "dim = (img_width, img_height)\n",
    "def_thresh=38"
   ]
  },
  {
   "cell_type": "code",
   "execution_count": 5,
   "metadata": {},
   "outputs": [],
   "source": [
    "anchor_in = Input(shape=(img_width, img_height, channels))\n",
    "pos_in = Input(shape=(img_width, img_height, channels))\n",
    "neg_in = Input(shape=(img_width, img_height, channels))\n",
    "\n",
    "anchor_out = model(anchor_in)\n",
    "pos_out = model(pos_in)\n",
    "neg_out = model(neg_in)\n",
    "merged_vector = concatenate([anchor_out, pos_out, neg_out],axis=1)\n",
    "\n",
    "model = Model(inputs=[anchor_in, pos_in, neg_in], outputs=merged_vector)"
   ]
  },
  {
   "cell_type": "code",
   "execution_count": 6,
   "metadata": {},
   "outputs": [],
   "source": [
    "model.load_weights(\"D:/Completed projects/Axis bank signatures/models/model_weights.h5\")"
   ]
  },
  {
   "cell_type": "code",
   "execution_count": 7,
   "metadata": {},
   "outputs": [],
   "source": [
    "def trim(im):\n",
    "    bg = Image.new(im.mode, im.size, im.getpixel((0,0)))\n",
    "    diff = ImageChops.difference(im, bg)\n",
    "    diff = ImageChops.add(diff, diff, 2.0, -100)\n",
    "    bbox = diff.getbbox()\n",
    "    if bbox:\n",
    "        return im.crop(bbox)\n",
    "\n",
    "def to_rgb(img):\n",
    "    img = cv2.resize(img, dim, interpolation = cv2.INTER_AREA) \n",
    "    img_rgb = np.asarray(np.dstack((img, img, img)), dtype=np.uint8)\n",
    "    return img_rgb\n",
    "\n",
    "def returnimages(path, thr=True, crop=True):\n",
    "    image=cv2.imread(path)                  #bringing the image\n",
    "    #image=cv2.resize(image, (img_width, img_height))\n",
    "    image=cv2.cvtColor(image, cv2.COLOR_BGR2GRAY)    #converting to grey scale\n",
    "    if thr==True:\n",
    "        retval2,image = cv2.threshold(image,0,255,cv2.THRESH_BINARY+cv2.THRESH_OTSU)   #using OTSU thersholding\n",
    "    if crop==True:\n",
    "        threshold=to_rgb(image)\n",
    "        image = trim(Image.fromarray(threshold))\n",
    "        image = np.asarray(image)\n",
    "        image=cv2.copyMakeBorder(image,3,3,10,10,cv2.BORDER_CONSTANT,value=[255,255,255])\n",
    "\n",
    "    image=cv2.resize(image, (img_width, img_height))\n",
    "    image=image.reshape(1,img_width, img_height,3)/255.0       #resizing and normalizing    \n",
    "    return image"
   ]
  },
  {
   "cell_type": "code",
   "execution_count": null,
   "metadata": {},
   "outputs": [],
   "source": []
  },
  {
   "cell_type": "code",
   "execution_count": 8,
   "metadata": {},
   "outputs": [],
   "source": [
    "gen=\"D:/Completed projects/Axis bank signatures/sample_Signature/genuine/NFI-00101001.png\"\n",
    "forg=\"D:/Completed projects/Axis bank signatures/sample_Signature/forged/NFI-00301001.png\""
   ]
  },
  {
   "cell_type": "code",
   "execution_count": 9,
   "metadata": {},
   "outputs": [],
   "source": [
    "img_gen=returnimages(gen, thr=True, crop=True)\n",
    "img_forg=returnimages(forg, thr=True, crop=True)"
   ]
  },
  {
   "cell_type": "code",
   "execution_count": 10,
   "metadata": {},
   "outputs": [],
   "source": [
    "x=model.predict([img_gen,img_forg,img_forg])\n",
    "a1, a2, a3 = x[0,0:512], x[0,512:1024], x[0,1024:1536]"
   ]
  },
  {
   "cell_type": "code",
   "execution_count": 11,
   "metadata": {},
   "outputs": [
    {
     "name": "stdout",
     "output_type": "stream",
     "text": [
      "Forgery\n",
      "38.508728\n"
     ]
    }
   ],
   "source": [
    "dist=np.linalg.norm(a1-a2)\n",
    "if(dist>38):\n",
    "    print(\"Forgery\")\n",
    "else:\n",
    "    print(\"Genuine\")\n",
    "print(dist)"
   ]
  },
  {
   "cell_type": "code",
   "execution_count": null,
   "metadata": {},
   "outputs": [],
   "source": []
  }
 ],
 "metadata": {
  "kernelspec": {
   "display_name": "Python 3",
   "language": "python",
   "name": "python3"
  },
  "language_info": {
   "codemirror_mode": {
    "name": "ipython",
    "version": 3
   },
   "file_extension": ".py",
   "mimetype": "text/x-python",
   "name": "python",
   "nbconvert_exporter": "python",
   "pygments_lexer": "ipython3",
   "version": "3.6.5"
  }
 },
 "nbformat": 4,
 "nbformat_minor": 2
}
