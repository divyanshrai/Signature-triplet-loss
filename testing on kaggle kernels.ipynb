{
 "cells": [
  {
   "cell_type": "code",
   "execution_count": 21,
   "metadata": {
    "_cell_guid": "b1076dfc-b9ad-4769-8c92-a6c4dae69d19",
    "_uuid": "8f2839f25d086af736a60e9eeb907d3b93b6e0e5"
   },
   "outputs": [],
   "source": [
    "import os\n",
    "import numpy as np\n",
    "import matplotlib.pyplot as plt\n",
    "import matplotlib.mlab as mlab\n",
    "import cv2\n",
    "import math\n",
    "\n",
    "import keras\n",
    "import keras.backend as K\n",
    "import tensorflow as tf\n",
    "from keras import applications\n",
    "from keras.models import Model\n",
    "from keras.layers import Flatten, Dense, Input,concatenate\n",
    "from keras.optimizers import Adam\n",
    "from keras.models import load_model, model_from_json\n",
    "\n",
    "\n",
    "import random"
   ]
  },
  {
   "cell_type": "code",
   "execution_count": 22,
   "metadata": {
    "_uuid": "15394ae64f1a830461100bd58881f185882c181f"
   },
   "outputs": [],
   "source": [
    "gent=\"../input/sigcomp-2009/sigcomp 2009/genuines\"\n",
    "forgt=\"../input/sigcomp-2009/sigcomp 2009/forgeries\""
   ]
  },
  {
   "cell_type": "code",
   "execution_count": 23,
   "metadata": {
    "_uuid": "a3329aff46094eb2a512509a308b709fabf0443c"
   },
   "outputs": [],
   "source": [
    "img_width, img_height, channels = 224, 224, 3\n",
    "\n",
    "dim = (img_width, img_height)\n",
    "\n",
    "#images functions just for getting iamges and adjusting it for \n",
    "def to_rgb(img):\n",
    "    img = cv2.resize(img, dim, interpolation = cv2.INTER_AREA) \n",
    "    img_rgb = np.asarray(np.dstack((img, img, img)), dtype=np.uint8)\n",
    "    return img_rgb\n",
    "\n",
    "def returnimages(path,img):\n",
    "    image=cv2.imread(path+\"/\"+ img)                  #bringing the image\n",
    "    image=cv2.resize(image, (img_width, img_height))\n",
    "    image=cv2.cvtColor(image, cv2.COLOR_BGR2GRAY)\n",
    "    image=to_rgb(image).reshape(1,img_width, img_height,3)/255.0       #resizing and normalizing    \n",
    "    return image     "
   ]
  },
  {
   "cell_type": "code",
   "execution_count": 24,
   "metadata": {
    "_cell_guid": "79c7e3d0-c299-4dcb-8224-4455121ee9b0",
    "_uuid": "d629ff2d2480ee46fbb7e2d37f6b5fab8052498a"
   },
   "outputs": [],
   "source": [
    "#getting the model again and adjusting it to be able to get the weights\n",
    "\n",
    "model = applications.vgg19.VGG19(weights='imagenet', include_top=False, pooling='max')\n",
    "for layer in model.layers[:15]:\n",
    "    layer.trainable = False"
   ]
  },
  {
   "cell_type": "code",
   "execution_count": 25,
   "metadata": {
    "_uuid": "f393df9b069ec926171ae9dc778d427548e0bd0e"
   },
   "outputs": [],
   "source": [
    "anchor_in = Input(shape=(img_width, img_height, channels))\n",
    "pos_in = Input(shape=(img_width, img_height, channels))\n",
    "neg_in = Input(shape=(img_width, img_height, channels))\n",
    "\n",
    "anchor_out = model(anchor_in)\n",
    "pos_out = model(pos_in)\n",
    "neg_out = model(neg_in)\n",
    "merged_vector = concatenate([anchor_out, pos_out, neg_out],axis=1)\n",
    "\n",
    "model = Model(inputs=[anchor_in, pos_in, neg_in], outputs=merged_vector)"
   ]
  },
  {
   "cell_type": "code",
   "execution_count": null,
   "metadata": {},
   "outputs": [],
   "source": []
  },
  {
   "cell_type": "code",
   "execution_count": 27,
   "metadata": {
    "_uuid": "ee3f5c1d00e023d375c9b4697f3e018f2a8adced"
   },
   "outputs": [
    {
     "data": {
      "text/plain": [
       "['__output__.json', 'model_weights.h5', 'custom.css', '__results__.html']"
      ]
     },
     "execution_count": 27,
     "metadata": {},
     "output_type": "execute_result"
    }
   ],
   "source": [
    "os.listdir(\"../input/training-using-greyscale\")"
   ]
  },
  {
   "cell_type": "code",
   "execution_count": null,
   "metadata": {
    "_uuid": "a40049315b3566bbc58c734bd6fcc6a5af098314"
   },
   "outputs": [],
   "source": []
  },
  {
   "cell_type": "code",
   "execution_count": 28,
   "metadata": {
    "_uuid": "74f97d0d854398e8ec7aebf68fe4ae832e8848cb"
   },
   "outputs": [],
   "source": [
    "#laoding weights outputted after training\n",
    "\n",
    "model.load_weights('../input/training-using-greyscale/model_weights.h5')"
   ]
  },
  {
   "cell_type": "code",
   "execution_count": null,
   "metadata": {
    "_uuid": "53c7621b5aefb7655485155eab4ee1dadca9ae48"
   },
   "outputs": [],
   "source": []
  },
  {
   "cell_type": "code",
   "execution_count": 29,
   "metadata": {
    "_uuid": "ab94fb9b085dd04720e03dec001420536584ff39"
   },
   "outputs": [],
   "source": [
    "#new getfiles defined to get us three anchor images to get the threshold from\n",
    "\n",
    "def getfilest(num,gen,forg):\n",
    "    a=os.listdir(gen)\n",
    "    b=os.listdir(forg)\n",
    "    c=str(num)\n",
    "    c=c[2:]\n",
    "    if(len(c)==2):\n",
    "        c=c+\"0\"\n",
    "    \n",
    "    n,m=[],[]\n",
    "    for i in b:\n",
    "        if i.endswith(c+\".png\"):\n",
    "            n=n+[i]\n",
    "        elif i.endswith(c+\".PNG\"):\n",
    "            n=n+[i]\n",
    "    for i in a:\n",
    "        if i.endswith(c+\".png\"):\n",
    "            m=m+[i]\n",
    "        elif i.endswith(c+\".PNG\"):\n",
    "            m=m+[i]\n",
    "    return m.pop(),m.pop(),m.pop(),n,m"
   ]
  },
  {
   "cell_type": "code",
   "execution_count": null,
   "metadata": {
    "_uuid": "a1aecc9e78ce1378a8b87e97e00adbe08e15b5ce"
   },
   "outputs": [],
   "source": []
  },
  {
   "cell_type": "code",
   "execution_count": null,
   "metadata": {
    "_uuid": "284adc488a0a71f1b82b5169baca252b783d1dcf"
   },
   "outputs": [],
   "source": [
    "#counting the number of forgeries and genuine in the test set\n",
    "\n",
    "tneg,tpos=0,0\n",
    "x=[0.002, 0.008, 0.016, 0.018, 0.024, 0.033, 0.035, 0.044, 0.046, 0.063,\n",
    "   0.070, 0.071, 0.077, 0.084, 0.085, 0.086, 0.089, 0.092, 0.093]\n",
    "for k in x: #the id of signatures you want to check\n",
    "    #print(\"When k is \", k)\n",
    "    anc,neg,pos=getfiles(k,gent,forgt)\n",
    "    tneg=tneg+len(neg)\n",
    "    tpos=tpos+len(pos)\n",
    "print(tneg,tpos)"
   ]
  },
  {
   "cell_type": "code",
   "execution_count": null,
   "metadata": {},
   "outputs": [],
   "source": []
  },
  {
   "cell_type": "code",
   "execution_count": 30,
   "metadata": {
    "_uuid": "c6a44dddea4d0ccb4a4ec7f05b9c54b45ee0d563",
    "scrolled": true
   },
   "outputs": [
    {
     "name": "stdout",
     "output_type": "stream",
     "text": [
      "When k is  0.002\n",
      "threshhold is   29.05815887451172\n",
      "gen flagged -  28.587025 file name is -  NFI-00209002.png\n",
      "gen flagged -  30.428028 file name is -  NFI-00208002.png\n",
      "When k is  0.008\n",
      "threshhold is   33.78111521402995\n",
      "When k is  0.016\n",
      "threshhold is   35.521158854166664\n",
      "gen flagged -  46.76066 file name is -  NFI-01612016.png\n",
      "gen flagged -  37.981094 file name is -  NFI-01608016.png\n",
      "gen flagged -  44.867584 file name is -  NFI-01609016.png\n",
      "forg passed -  42.21798 file name is -  NFI-07405016.png\n",
      "forg passed -  34.468212 file name is -  NFI-07702016.png\n",
      "forg passed -  29.825989 file name is -  NFI-07706016.png\n",
      "forg passed -  39.196293 file name is -  NFI-07703016.png\n",
      "forg passed -  34.082745 file name is -  NFI-07704016.png\n",
      "forg passed -  39.337273 file name is -  NFI-07406016.png\n",
      "When k is  0.018\n",
      "threshhold is   35.161870320638016\n",
      "forg passed -  35.166386 file name is -  NFI-08906018.png\n",
      "When k is  0.024\n",
      "threshhold is   27.895525614420574\n",
      "When k is  0.033\n",
      "threshhold is   26.926183064778645\n",
      "gen flagged -  26.321392 file name is -  NFI-03303033.png\n",
      "forg passed -  23.53104 file name is -  NFI-02702033.png\n",
      "When k is  0.035\n",
      "threshhold is   37.19853719075521\n",
      "When k is  0.044\n",
      "threshhold is   29.54490915934245\n",
      "gen flagged -  36.27234 file name is -  NFI-04412044.png\n",
      "gen flagged -  38.41734 file name is -  NFI-04407044.png\n",
      "forg passed -  26.329222 file name is -  NFI-00605044.png\n",
      "forg passed -  24.050081 file name is -  NFI-01401044.png\n",
      "When k is  0.046\n",
      "threshhold is   26.58593241373698\n",
      "When k is  0.063\n",
      "threshhold is   34.46970621744792\n",
      "forg passed -  38.003326 file name is -  NFI-00603063.png\n",
      "When k is  0.07\n",
      "threshhold is   35.164344787597656\n",
      "gen flagged -  39.342236 file name is -  NFI-07003070.png\n",
      "gen flagged -  39.801003 file name is -  NFI-07001070.png\n",
      "When k is  0.071\n",
      "threshhold is   29.471079508463543\n",
      "gen flagged -  46.259373 file name is -  NFI-07106071.png\n",
      "When k is  0.077\n",
      "threshhold is   30.22169240315755\n",
      "gen flagged -  30.158083 file name is -  NFI-07711077.png\n",
      "gen flagged -  28.082355 file name is -  NFI-07705077.png\n",
      "gen flagged -  35.586678 file name is -  NFI-07710077.png\n",
      "gen flagged -  39.14357 file name is -  NFI-07709077.png\n",
      "gen flagged -  36.55432 file name is -  NFI-07703077.png\n",
      "forg passed -  33.424522 file name is -  NFI-02205077.png\n",
      "When k is  0.084\n",
      "threshhold is   36.417449951171875\n",
      "gen flagged -  42.329823 file name is -  NFI-08411084.png\n",
      "gen flagged -  47.373234 file name is -  NFI-08407084.png\n",
      "forg passed -  38.06229 file name is -  NFI-03201084.png\n",
      "When k is  0.085\n",
      "threshhold is   36.92444356282552\n",
      "gen flagged -  37.017143 file name is -  NFI-08512085.png\n",
      "gen flagged -  37.832718 file name is -  NFI-08505085.png\n",
      "forg passed -  31.193169 file name is -  NFI-04202085.png\n",
      "forg passed -  38.48528 file name is -  NFI-04204085.png\n",
      "forg passed -  36.945114 file name is -  NFI-04303085.png\n",
      "forg passed -  34.18397 file name is -  NFI-04306085.png\n",
      "forg passed -  30.314646 file name is -  NFI-03204085.png\n",
      "forg passed -  36.307983 file name is -  NFI-04104085.png\n",
      "forg passed -  27.244967 file name is -  NFI-04203085.png\n",
      "forg passed -  37.35702 file name is -  NFI-04105085.png\n",
      "forg passed -  33.160786 file name is -  NFI-04302085.png\n",
      "When k is  0.086\n",
      "threshhold is   42.68255615234375\n",
      "gen flagged -  40.147102 file name is -  NFI-08601086.png\n",
      "forg passed -  43.473427 file name is -  NFI-04106086.png\n",
      "forg passed -  44.539845 file name is -  NFI-04102086.png\n",
      "forg passed -  41.747185 file name is -  NFI-04204086.png\n",
      "forg passed -  47.109467 file name is -  NFI-04304086.png\n",
      "forg passed -  41.353336 file name is -  NFI-04205086.png\n",
      "forg passed -  39.06319 file name is -  NFI-04201086.png\n",
      "forg passed -  46.772015 file name is -  NFI-04306086.png\n",
      "forg passed -  40.754635 file name is -  NFI-04101086.png\n",
      "forg passed -  42.376453 file name is -  NFI-04903086.png\n",
      "forg passed -  40.704178 file name is -  NFI-03902086.png\n",
      "forg passed -  46.250008 file name is -  NFI-04303086.png\n",
      "forg passed -  43.169544 file name is -  NFI-04305086.png\n",
      "When k is  0.089\n",
      "threshhold is   29.700032552083332\n",
      "gen flagged -  31.61132 file name is -  NFI-08904089.png\n",
      "forg passed -  28.43519 file name is -  NFI-02202089.png\n",
      "When k is  0.092\n",
      "threshhold is   33.93828582763672\n",
      "gen flagged -  33.19091 file name is -  NFI-09201092.png\n",
      "gen flagged -  36.97595 file name is -  NFI-09205092.png\n",
      "gen flagged -  37.427982 file name is -  NFI-09211092.png\n",
      "gen flagged -  31.747314 file name is -  NFI-09212092.png\n",
      "forg passed -  33.723923 file name is -  NFI-00902092.png\n",
      "When k is  0.093\n",
      "threshhold is   33.92397054036458\n",
      "gen flagged -  39.4533 file name is -  NFI-09302093.png\n",
      "forg passed -  33.508984 file name is -  NFI-02302093.png\n",
      "forg passed -  33.292408 file name is -  NFI-02306093.png\n",
      "forg_passed is  38\n",
      "gen_flagged is  27\n"
     ]
    }
   ],
   "source": [
    "#predicting using a threshold designed for each image, itself using the three anchor images.\n",
    "\n",
    "forg_passed=0\n",
    "gen_flagged=0\n",
    "x=[0.002, 0.008, 0.016, 0.018, 0.024, 0.033, 0.035, 0.044, 0.046, 0.063,\n",
    "   0.070, 0.071, 0.077, 0.084, 0.085, 0.086, 0.089, 0.092, 0.093]\n",
    "\n",
    "for k in x: #the id of signatures you want to check\n",
    "    print(\"When k is \", k)\n",
    "    anc1,anc2,anc3,neg,pos=getfilest(k,gent,forgt)\n",
    "    anchor1=returnimages(gent,anc1)\n",
    "    anchor2=returnimages(gent,anc2)\n",
    "    anchor3=returnimages(gent,anc3)\n",
    "    \n",
    "    x=model.predict([anchor1,anchor2,anchor3])\n",
    "    \n",
    "    a1, a2, a3 = x[0,0:511], x[0,512:1023], x[0,1024:1535]\n",
    "    \n",
    "    thresh1=np.linalg.norm(a1-a2)#+3.5\n",
    "    thresh2=np.linalg.norm(a2-a3)\n",
    "    thresh3=np.linalg.norm(a1-a3)\n",
    "    thresh=(thresh1+thresh2+thresh3)/3\n",
    "    thresh=thresh+3.5\n",
    "    print(\"threshhold is  \",thresh)\n",
    "    \n",
    "    for i in range(len(pos)): #pos\n",
    "        positive=returnimages(gent,pos[i])\n",
    "        x=model.predict([anchor1,positive,anchor2])\n",
    "        useless, p, useless = x[0,0:511], x[0,512:1023], x[0,1024:1535]\n",
    "        dist1=np.linalg.norm(a1-p)\n",
    "        dist2=np.linalg.norm(a2-p)\n",
    "        dist3=np.linalg.norm(a3-p)\n",
    "        dist=(dist1+dist2+dist3)/3\n",
    "        \n",
    "        \n",
    "        if(dist>thresh):\n",
    "        #  print(\"0\")\n",
    "            gen_flagged=gen_flagged+1\n",
    "            print(\"gen flagged - \",dist1, \"file name is - \", pos[i])\n",
    "            \n",
    "        else:\n",
    "            gen_flagged=gen_flagged\n",
    "        #   print(\"1\")\n",
    "    for j in range(len(neg)): #neg\n",
    "        negative=returnimages(forgt,neg[j])\n",
    "        x=model.predict([anchor1,negative,anchor2])\n",
    "        useless, n, useless = x[0,0:511], x[0,512:1023], x[0,1024:1535]\n",
    "        #dist=sum(a-n)\n",
    "        dist1=np.linalg.norm(a1-n)\n",
    "        dist2=np.linalg.norm(a2-n)\n",
    "        dist3=np.linalg.norm(a3-n)\n",
    "        #print(\"negative distance is \",dist)\n",
    "        dist=(dist1+dist2+dist3)/3\n",
    "        if(dist>thresh):\n",
    "            forg_passed=forg_passed\n",
    "          #  print(\"0\")\n",
    "        else:\n",
    "            forg_passed=forg_passed+1\n",
    "            print(\"forg passed - \",dist1, \"file name is - \", neg[j])\n",
    "          #  print(\"1\")\n",
    "        \n",
    "print(\"forg_passed is \",forg_passed)\n",
    "print(\"gen_flagged is \",gen_flagged)"
   ]
  },
  {
   "cell_type": "code",
   "execution_count": null,
   "metadata": {
    "_uuid": "33d5f4a7261a60e142c505135a48361205505906"
   },
   "outputs": [],
   "source": [
    "#with the new weights its \n",
    "#38 - forgeries that go undetected out of 624\n",
    "#27 - genuines that are flagged as forgeries out of 204"
   ]
  },
  {
   "cell_type": "code",
   "execution_count": null,
   "metadata": {
    "_uuid": "1a9062adf13de485471f54f12aef0d4a58253fcb"
   },
   "outputs": [],
   "source": []
  }
 ],
 "metadata": {
  "kernelspec": {
   "display_name": "Python 3",
   "language": "python",
   "name": "python3"
  },
  "language_info": {
   "codemirror_mode": {
    "name": "ipython",
    "version": 3
   },
   "file_extension": ".py",
   "mimetype": "text/x-python",
   "name": "python",
   "nbconvert_exporter": "python",
   "pygments_lexer": "ipython3",
   "version": "3.6.5"
  }
 },
 "nbformat": 4,
 "nbformat_minor": 1
}
