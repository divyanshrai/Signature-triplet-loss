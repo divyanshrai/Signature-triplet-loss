{
  "cells": [
    {
      "metadata": {
        "trusted": true,
        "_uuid": "457c8128a0d1b8b87625e42b6796f52fd0441406"
      },
      "cell_type": "code",
      "source": "import os\nimport numpy as np\nimport matplotlib.pyplot as plt\nimport cv2\n\nimport keras\nimport keras.backend as K\nimport tensorflow as tf\nfrom keras import applications\nfrom keras.models import Model\nfrom keras.layers import Flatten, Dense, Input,concatenate\nfrom keras.optimizers import Adam\nfrom keras.models import load_model, model_from_json\n\nimport random\n#from PIL import Image, ImageChops",
      "execution_count": 11,
      "outputs": []
    },
    {
      "metadata": {
        "trusted": true,
        "_uuid": "9cff639e3cb35d510d6fc8d08803f3afacbdfc70"
      },
      "cell_type": "code",
      "source": "gen=\"../input/handwritten-signatures/sample_signature/sample_Signature/genuine\"\nforg=\"../input/handwritten-signatures/sample_signature/sample_Signature/forged\"\n\ngentr=\"../input/sigcomp-2009-train/sigcomp 2009 train/Sigcomp 2009 train/genuine\"\nforgtr=\"../input/sigcomp-2009-train/sigcomp 2009 train/Sigcomp 2009 train/forgeries\"\n\ngent=\"../input/sigcomp-2009/sigcomp 2009/genuines\"\nforgt=\"../input/sigcomp-2009/sigcomp 2009/forgeries\"",
      "execution_count": 12,
      "outputs": []
    },
    {
      "metadata": {
        "trusted": true,
        "_uuid": "c5d07ba221be20138d4c5dfeaa19b6aa426bf669"
      },
      "cell_type": "code",
      "source": "",
      "execution_count": null,
      "outputs": []
    },
    {
      "metadata": {
        "trusted": true,
        "_uuid": "137ad333bcbf9f7d4a33d3c369d5e32e4b1a093f"
      },
      "cell_type": "code",
      "source": "img_width, img_height, channels = 224, 224, 3\n\ndim = (img_width, img_height)\n\ndef to_rgb(img):\n    img = cv2.resize(img, dim, interpolation = cv2.INTER_AREA) \n    img_rgb = np.asarray(np.dstack((img, img, img)), dtype=np.uint8)\n    return img_rgb\n\ndef returnimages(path,img):\n    image=cv2.imread(path+\"/\"+ img)                  #bringing the image\n    image=cv2.resize(image, (img_width, img_height))\n    image=cv2.cvtColor(image, cv2.COLOR_BGR2GRAY)\n    image=to_rgb(image).reshape(1,img_width, img_height,3)/255.0       #resizing and normalizing    \n    return image     \n\ndef getfiles(num,gen,forg):\n    a=os.listdir(gen)\n    b=os.listdir(forg)\n    c=str(num)\n    c=c[2:]\n    if(len(c)==2):\n        c=c+\"0\"\n    \n    n,m=[],[]\n    for i in b:\n        if i.endswith(c+\".png\"):\n            n=n+[i]\n        elif i.endswith(c+\".PNG\"):\n            n=n+[i]\n    for i in a:\n        if i.endswith(c+\".png\"):\n            m=m+[i]\n        elif i.endswith(c+\".PNG\"):\n            m=m+[i]\n    return m.pop(),n,m\n\ndef getfiles2(num):\n    a=os.listdir(gentr)\n    b=os.listdir(forgtr)\n    c=str(num)\n    c=c[2:]\n    if(len(c)==2):\n        c=c+\"0\"\n    n,m=[],[]\n    for i in b:\n        if (i.endswith(c+\"_001_6g.png\") or i.endswith(c+\"_002_6g.png\") or i.endswith(c+\"_003_6g.png\")\n            or i.endswith(c+\"_004_6g.png\") or i.endswith(c+\"_005_6g.png\")):\n            n=n+[i]\n        elif (i.endswith(c+\"_001_6g.PNG\") or i.endswith(c+\"_002_6g.PNG\") or i.endswith(c+\"_003_6g.PNG\")\n              or i.endswith(c+\"_004_6g.PNG\") or i.endswith(c+\"_005_6g.PNG\")):\n            n=n+[i]\n    for i in a:\n        if (i.endswith(c+\"_001_6g.png\") or i.endswith(c+\"_002_6g.png\") or i.endswith(c+\"_003_6g.png\")\n            or i.endswith(c+\"_004_6g.png\") or i.endswith(c+\"_005_6g.png\")):\n            m=m+[i]\n        elif (i.endswith(c+\"_001_6g.PNG\") or i.endswith(c+\"_002_6g.PNG\") or i.endswith(c+\"_003_6g.PNG\")\n              or i.endswith(c+\"_004_6g.PNG\") or i.endswith(c+\"_005_6g.PNG\")):\n            m=m+[i]\n    return m.pop(),n,m\n\n",
      "execution_count": 13,
      "outputs": []
    },
    {
      "metadata": {
        "trusted": true,
        "_uuid": "1f393a960808ce3ae109f652596c119234569929"
      },
      "cell_type": "code",
      "source": "def triplet_loss(y_true, y_pred):\n    alpha = 0.5\n    anchor, positive, negative =y_pred[0,0:512], y_pred[0,512:1024], y_pred[0,1024:1536]\n    \n    positive_distance = K.mean(K.square(anchor - positive),axis=-1)\n    negative_distance = K.mean(K.square(anchor - negative),axis=-1)\n    return K.mean(K.maximum(0.0, positive_distance - negative_distance + alpha))",
      "execution_count": 14,
      "outputs": []
    },
    {
      "metadata": {
        "trusted": true,
        "_uuid": "a09db907a57305044ee9704496b0baeab0fcfc7f"
      },
      "cell_type": "code",
      "source": "model = applications.vgg19.VGG19(weights='imagenet', include_top=False, pooling='max')",
      "execution_count": 25,
      "outputs": []
    },
    {
      "metadata": {
        "trusted": true,
        "_uuid": "678fd9c5a2e7e9a65801419bdbba678b627bc6ee"
      },
      "cell_type": "code",
      "source": "for layer in model.layers[:13]:\n    layer.trainable = False",
      "execution_count": 26,
      "outputs": []
    },
    {
      "metadata": {
        "trusted": true,
        "_uuid": "a8df697932a42e3d3a4de7b628fa714de636672c"
      },
      "cell_type": "code",
      "source": "anchor_in = Input(shape=(img_width, img_height, channels))\npos_in = Input(shape=(img_width, img_height, channels))\nneg_in = Input(shape=(img_width, img_height, channels))\n\nanchor_out = model(anchor_in)\npos_out = model(pos_in)\nneg_out = model(neg_in)\nmerged_vector = concatenate([anchor_out, pos_out, neg_out],axis=1)",
      "execution_count": 27,
      "outputs": []
    },
    {
      "metadata": {
        "trusted": true,
        "_uuid": "6895eb65489e99a300ff26a22bcc9f2f861a7954"
      },
      "cell_type": "code",
      "source": "model = Model(inputs=[anchor_in, pos_in, neg_in], outputs=merged_vector)",
      "execution_count": 28,
      "outputs": []
    },
    {
      "metadata": {
        "trusted": true,
        "_uuid": "027c3ea08b5899817d170e023ade9d3ba5f91ee3"
      },
      "cell_type": "code",
      "source": "model.compile(optimizer=Adam(lr=0.000005),loss=triplet_loss)",
      "execution_count": 29,
      "outputs": []
    },
    {
      "metadata": {
        "trusted": true,
        "_uuid": "ff91094e0df6512056bc32dda716681523128370"
      },
      "cell_type": "code",
      "source": "def generator():\n    for i in range(1,31):\n        if(i<10):\n            anc,neg,pos=getfiles(float(\"0.00\"+str(i)),gen,forg)\n        else:\n            anc,neg,pos=getfiles(float(\"0.0\"+str(i)),gen,forg)\n        for i in range(len(neg)):\n            for j in range(len(pos)):\n                anchor=returnimages(gen,anc)\n                positive=returnimages(gen,pos[j])\n                negative=returnimages(forg,neg[i])\n               # yield ([anc,pos[j],neg[i]],[0])\n                yield ([anchor,positive,negative],[0])",
      "execution_count": 30,
      "outputs": []
    },
    {
      "metadata": {
        "trusted": true,
        "_uuid": "63886c6513ed93c4aef5948709a1526b7805b41d",
        "scrolled": true
      },
      "cell_type": "code",
      "source": "for x in range(1):\n    model.fit_generator(generator(),steps_per_epoch=200,epochs=3)",
      "execution_count": 31,
      "outputs": [
        {
          "output_type": "stream",
          "text": "Epoch 1/3\n200/200 [==============================] - 39s 197ms/step - loss: 0.0844\nEpoch 2/3\n200/200 [==============================] - 37s 185ms/step - loss: 0.0555\nEpoch 3/3\n200/200 [==============================] - 45s 226ms/step - loss: 0.0282\n",
          "name": "stdout"
        }
      ]
    },
    {
      "metadata": {
        "trusted": true,
        "_uuid": "d1da456878abf6805e1553787c5edeb2732b661a"
      },
      "cell_type": "code",
      "source": "",
      "execution_count": null,
      "outputs": []
    },
    {
      "metadata": {
        "trusted": true,
        "_uuid": "795a8d9749c7dfa0ec9dba7811192c3a47a21fdf"
      },
      "cell_type": "code",
      "source": "model.compile(optimizer=Adam(lr=0.000002),loss=triplet_loss)",
      "execution_count": 32,
      "outputs": []
    },
    {
      "metadata": {
        "trusted": true,
        "_uuid": "f6566cfba2425a96bd98558e8b10b3880862266a"
      },
      "cell_type": "code",
      "source": "def generator2():\n    x=[\"0.001\",\"0.004\", \"0.005\", \"0.006\", \"0.007\",\n       \"0.008\", \"0.009\", \"0.010\", \"0.011\", \"0.001\", \"0.011\"]\n  #  x=[\"0.001\", \"0.004\", \"0.006\", \"0.010\"]\n\n    for k in x:\n        anc,neg,pos=getfiles2(k)\n        frac=0.95    \n        inds = set(random.sample(list(range(len(neg))), int(frac*len(neg))))\n        neg = [n for i,n in enumerate(neg) if i not in inds]\n    \n        for i in range(len(neg)):\n            for j in range(len(pos)):\n                anchor=returnimages(gentr,anc)\n                positive=returnimages(gentr,pos[j])\n                negative=returnimages(forgtr,neg[i])\n               # yield ([anc,pos[j],neg[i]])\n                yield ([anchor,positive,negative],[0])",
      "execution_count": 33,
      "outputs": []
    },
    {
      "metadata": {
        "trusted": true,
        "_uuid": "d31556b88d8eb42a38acb6e5cd2b7f2fe4d06ec4"
      },
      "cell_type": "code",
      "source": "for x in range(1):\n    model.fit_generator(generator2(),steps_per_epoch=32,epochs=11)",
      "execution_count": 34,
      "outputs": [
        {
          "output_type": "stream",
          "text": "Epoch 1/11\n32/32 [==============================] - 8s 261ms/step - loss: 0.0471\nEpoch 2/11\n32/32 [==============================] - 6s 186ms/step - loss: 0.0135\nEpoch 3/11\n32/32 [==============================] - 6s 185ms/step - loss: 0.0064\nEpoch 4/11\n32/32 [==============================] - 6s 186ms/step - loss: 0.0078\nEpoch 5/11\n32/32 [==============================] - 6s 186ms/step - loss: 0.0086\nEpoch 6/11\n32/32 [==============================] - 6s 185ms/step - loss: 0.0502\nEpoch 7/11\n32/32 [==============================] - 6s 185ms/step - loss: 0.0000e+00\nEpoch 8/11\n32/32 [==============================] - 6s 185ms/step - loss: 0.0050\nEpoch 9/11\n32/32 [==============================] - 6s 186ms/step - loss: 0.0442\nEpoch 10/11\n32/32 [==============================] - 6s 185ms/step - loss: 2.5446e-04\nEpoch 11/11\n32/32 [==============================] - 6s 184ms/step - loss: 0.0000e+00\n",
          "name": "stdout"
        }
      ]
    },
    {
      "metadata": {
        "trusted": true,
        "_uuid": "e94b4d63ec1dc87b541faccee5e154e7efab5783"
      },
      "cell_type": "code",
      "source": "",
      "execution_count": null,
      "outputs": []
    },
    {
      "metadata": {
        "trusted": true,
        "_uuid": "083730c5a1391421b3150e4d710be5020fe6e655"
      },
      "cell_type": "code",
      "source": "tneg,tpos=0,0\nx=[0.002, 0.008, 0.016, 0.018, 0.024, 0.033, 0.035, 0.044, 0.046, 0.063,\n   0.070, 0.071, 0.077, 0.084, 0.085, 0.086, 0.089, 0.092, 0.093]\nfor k in x: #the id of signatures you want to check\n    #print(\"When k is \", k)\n    anc,neg,pos=getfiles(k,gent,forgt)\n    tneg=tneg+len(neg)\n    tpos=tpos+len(pos)\nprint(tneg,tpos)",
      "execution_count": 35,
      "outputs": [
        {
          "output_type": "stream",
          "text": "624 203\n",
          "name": "stdout"
        }
      ]
    },
    {
      "metadata": {
        "trusted": true,
        "_uuid": "6f170046a2263ec6f01ebfb24446db32067c3a49"
      },
      "cell_type": "code",
      "source": "os.listdir('../working')",
      "execution_count": 39,
      "outputs": [
        {
          "output_type": "execute_result",
          "execution_count": 39,
          "data": {
            "text/plain": "['__notebook_source__.ipynb', 'weights.h5', '.ipynb_checkpoints']"
          },
          "metadata": {}
        }
      ]
    },
    {
      "metadata": {
        "trusted": true,
        "_uuid": "9f0d5dca740c8e6729089918b780e85c17726203"
      },
      "cell_type": "code",
      "source": "# Save the weights\nmodel.save_weights('model_weights.h5')\n\n# Save the model architecture\n#with open('model_architecture.json', 'w') as f:\n#    f.write(model.to_json())",
      "execution_count": 40,
      "outputs": []
    },
    {
      "metadata": {
        "trusted": true,
        "_uuid": "b56de28559d8ac142520ac3d188a369b192f3f7c"
      },
      "cell_type": "code",
      "source": "os.listdir('../working')",
      "execution_count": 41,
      "outputs": [
        {
          "output_type": "execute_result",
          "execution_count": 41,
          "data": {
            "text/plain": "['__notebook_source__.ipynb',\n 'weights.h5',\n 'model_weights.h5',\n '.ipynb_checkpoints']"
          },
          "metadata": {}
        }
      ]
    },
    {
      "metadata": {
        "trusted": true,
        "_uuid": "0b7ef84ba74b068677ff72ebdd85de4177a7a426"
      },
      "cell_type": "code",
      "source": "model.load_weights('../working/model_weights.h5')",
      "execution_count": 42,
      "outputs": []
    },
    {
      "metadata": {
        "trusted": true,
        "_uuid": "4c910d84be0eb10c6f70af9666f9feccafffbecc"
      },
      "cell_type": "code",
      "source": "",
      "execution_count": null,
      "outputs": []
    },
    {
      "metadata": {
        "trusted": true,
        "_uuid": "10ad0b8b91077365cee3938a843101d85bdd9c1d",
        "scrolled": true
      },
      "cell_type": "code",
      "source": "forg_passed=0\ngen_flagged=0\nx=[0.002, 0.008, 0.016, 0.018, 0.024, 0.033, 0.035, 0.044, 0.046, 0.063,\n   0.070, 0.071, 0.077, 0.084, 0.085, 0.086, 0.089, 0.092, 0.093]\n\nfor k in x: #the id of signatures you want to check\n    print(\"When k is \", k)\n    anc,neg,pos=getfiles(k,gent,forgt)\n    \n    anchor=returnimages(gent,anc)\n    for i in range(len(pos)): #pos\n        positive=returnimages(gent,pos[i])\n        x=model.predict([anchor,positive,anchor])\n        a, p, useless = x[0,0:512], x[0,512:1024], x[0,1024:1536]\n        #dist=sum(a-p)\n        dist=np.linalg.norm(a-p)\n        #print(\"positive distance is \",dist)\n        if(dist>40):\n        #  print(\"0\")\n            gen_flagged=gen_flagged+1\n            print(\"gen flagged - \",dist, \"file name is - \", pos[i])\n            \n        else:\n            gen_flagged=gen_flagged\n        #   print(\"1\")\n        \n    for j in range(len(neg)): #neg\n        negative=returnimages(forgt,neg[j])\n        x=model.predict([anchor,negative,anchor])\n        a, n, useless = x[0,0:512], x[0,512:1024], x[0,1024:1536]\n        #dist=sum(a-n)\n        dist=np.linalg.norm(a-n)\n        #print(\"negative distance is \",dist)\n        if(dist>40):\n            forg_passed=forg_passed\n          #  print(\"0\")\n        else:\n            forg_passed=forg_passed+1\n            print(\"forg passed - \",dist, \"file name is - \", neg[j])\n          #  print(\"1\")\n\nprint(\"forg_passed is \",forg_passed)\nprint(\"gen_flagged is \",gen_flagged)",
      "execution_count": 45,
      "outputs": [
        {
          "output_type": "stream",
          "text": "When k is  0.002\ngen flagged -  41.34227 file name is -  NFI-00209002.png\nforg passed -  35.487675 file name is -  NFI-08906002.png\nforg passed -  36.891907 file name is -  NFI-00305002.png\nforg passed -  36.599808 file name is -  NFI-08902002.png\nforg passed -  33.22395 file name is -  NFI-08901002.png\nWhen k is  0.008\ngen flagged -  40.020687 file name is -  NFI-00806008.png\ngen flagged -  44.18793 file name is -  NFI-00803008.png\ngen flagged -  42.581528 file name is -  NFI-00808008.png\ngen flagged -  41.694736 file name is -  NFI-00807008.png\nWhen k is  0.016\ngen flagged -  58.731308 file name is -  NFI-01612016.png\ngen flagged -  52.084938 file name is -  NFI-01608016.png\ngen flagged -  46.97917 file name is -  NFI-01610016.png\ngen flagged -  59.554245 file name is -  NFI-01609016.png\ngen flagged -  48.416237 file name is -  NFI-01611016.png\nWhen k is  0.018\ngen flagged -  50.565235 file name is -  NFI-01810018.png\ngen flagged -  56.809475 file name is -  NFI-01804018.png\ngen flagged -  54.823246 file name is -  NFI-01801018.png\nWhen k is  0.024\nWhen k is  0.033\nforg passed -  32.567055 file name is -  NFI-01604033.png\nforg passed -  31.942783 file name is -  NFI-05904033.png\nforg passed -  31.309687 file name is -  NFI-02705033.png\nforg passed -  39.389523 file name is -  NFI-02703033.png\nforg passed -  37.828136 file name is -  NFI-01702033.png\nforg passed -  35.99232 file name is -  NFI-02706033.png\nforg passed -  35.638947 file name is -  NFI-02804033.png\nforg passed -  30.708035 file name is -  NFI-01606033.png\nforg passed -  37.913006 file name is -  NFI-02803033.png\nforg passed -  38.378815 file name is -  NFI-02202033.png\nforg passed -  39.816666 file name is -  NFI-05906033.png\nforg passed -  31.752241 file name is -  NFI-02704033.png\nforg passed -  34.31957 file name is -  NFI-02204033.png\nforg passed -  33.272633 file name is -  NFI-01605033.png\nforg passed -  35.575054 file name is -  NFI-05901033.png\nforg passed -  29.599228 file name is -  NFI-02702033.png\nforg passed -  31.45439 file name is -  NFI-02201033.png\nforg passed -  30.88718 file name is -  NFI-02806033.png\nforg passed -  36.153065 file name is -  NFI-02701033.png\nforg passed -  38.47558 file name is -  NFI-02801033.png\nforg passed -  36.722004 file name is -  NFI-05905033.png\nforg passed -  36.969585 file name is -  NFI-02805033.png\nforg passed -  36.351227 file name is -  NFI-01704033.png\nforg passed -  33.57613 file name is -  NFI-02802033.png\nforg passed -  32.988758 file name is -  NFI-01603033.png\nWhen k is  0.035\ngen flagged -  41.286385 file name is -  NFI-03511035.png\ngen flagged -  43.436417 file name is -  NFI-03509035.png\ngen flagged -  41.09846 file name is -  NFI-03503035.png\ngen flagged -  40.2028 file name is -  NFI-03512035.png\ngen flagged -  45.405937 file name is -  NFI-03505035.png\ngen flagged -  41.877533 file name is -  NFI-03502035.png\ngen flagged -  46.26876 file name is -  NFI-03510035.png\ngen flagged -  44.185318 file name is -  NFI-03506035.png\ngen flagged -  51.98631 file name is -  NFI-03507035.png\ngen flagged -  45.422985 file name is -  NFI-03508035.png\nWhen k is  0.044\ngen flagged -  46.006527 file name is -  NFI-04412044.png\ngen flagged -  44.282684 file name is -  NFI-04407044.png\nforg passed -  39.583206 file name is -  NFI-00603044.png\nforg passed -  37.297905 file name is -  NFI-00605044.png\nforg passed -  38.067726 file name is -  NFI-00404044.png\nforg passed -  39.431957 file name is -  NFI-01401044.png\nWhen k is  0.046\nWhen k is  0.063\ngen flagged -  43.667946 file name is -  NFI-06307063.png\ngen flagged -  49.376347 file name is -  NFI-06305063.png\ngen flagged -  41.90639 file name is -  NFI-06311063.png\ngen flagged -  46.392975 file name is -  NFI-06312063.png\ngen flagged -  44.007824 file name is -  NFI-06310063.png\nWhen k is  0.07\ngen flagged -  43.37718 file name is -  NFI-07005070.png\ngen flagged -  46.493065 file name is -  NFI-07010070.png\ngen flagged -  44.039497 file name is -  NFI-07007070.png\ngen flagged -  50.966187 file name is -  NFI-07003070.png\ngen flagged -  46.19021 file name is -  NFI-07011070.png\ngen flagged -  48.363518 file name is -  NFI-07002070.png\ngen flagged -  52.514706 file name is -  NFI-07006070.png\ngen flagged -  57.32001 file name is -  NFI-07001070.png\ngen flagged -  47.849014 file name is -  NFI-07008070.png\ngen flagged -  50.447147 file name is -  NFI-07004070.png\ngen flagged -  42.49638 file name is -  NFI-07009070.png\nWhen k is  0.071\ngen flagged -  53.56164 file name is -  NFI-07106071.png\nforg passed -  37.272194 file name is -  NFI-07401071.png\nforg passed -  34.72747 file name is -  NFI-07404071.png\nforg passed -  38.479862 file name is -  NFI-07406071.png\nforg passed -  37.16789 file name is -  NFI-07403071.png\nforg passed -  36.33206 file name is -  NFI-07402071.png\nforg passed -  39.82935 file name is -  NFI-07405071.png\nforg passed -  39.108173 file name is -  NFI-07702071.png\nWhen k is  0.077\ngen flagged -  43.058723 file name is -  NFI-07705077.png\ngen flagged -  51.234024 file name is -  NFI-07710077.png\ngen flagged -  47.142956 file name is -  NFI-07709077.png\ngen flagged -  43.02292 file name is -  NFI-07703077.png\ngen flagged -  45.80317 file name is -  NFI-07712077.png\ngen flagged -  42.279057 file name is -  NFI-07701077.png\nWhen k is  0.084\ngen flagged -  48.678356 file name is -  NFI-08411084.png\ngen flagged -  57.331707 file name is -  NFI-08407084.png\ngen flagged -  42.455017 file name is -  NFI-08401084.png\nWhen k is  0.085\ngen flagged -  47.273453 file name is -  NFI-08504085.png\ngen flagged -  56.094456 file name is -  NFI-08512085.png\ngen flagged -  42.302708 file name is -  NFI-08508085.png\ngen flagged -  45.580235 file name is -  NFI-08502085.png\ngen flagged -  46.546066 file name is -  NFI-08501085.png\ngen flagged -  55.475166 file name is -  NFI-08505085.png\ngen flagged -  54.23848 file name is -  NFI-08503085.png\ngen flagged -  43.236206 file name is -  NFI-08511085.png\nWhen k is  0.086\ngen flagged -  59.33222 file name is -  NFI-08601086.png\ngen flagged -  47.32417 file name is -  NFI-08605086.png\ngen flagged -  58.720387 file name is -  NFI-08610086.png\ngen flagged -  57.919132 file name is -  NFI-08611086.png\ngen flagged -  51.11102 file name is -  NFI-08604086.png\ngen flagged -  47.10632 file name is -  NFI-08608086.png\ngen flagged -  44.18154 file name is -  NFI-08609086.png\ngen flagged -  50.288475 file name is -  NFI-08603086.png\ngen flagged -  52.973125 file name is -  NFI-08602086.png\ngen flagged -  43.71665 file name is -  NFI-08606086.png\ngen flagged -  51.6401 file name is -  NFI-08612086.png\nWhen k is  0.089\nforg passed -  35.19985 file name is -  NFI-05901089.png\nforg passed -  38.3932 file name is -  NFI-02203089.png\nforg passed -  37.867622 file name is -  NFI-05904089.png\nforg passed -  36.081104 file name is -  NFI-05902089.png\nWhen k is  0.092\ngen flagged -  43.33359 file name is -  NFI-09205092.png\ngen flagged -  44.345608 file name is -  NFI-09211092.png\nWhen k is  0.093\ngen flagged -  41.420116 file name is -  NFI-09306093.png\ngen flagged -  45.681244 file name is -  NFI-09311093.png\ngen flagged -  41.09535 file name is -  NFI-09302093.png\nforg passed -  39.219654 file name is -  NFI-02304093.png\nforg passed -  35.92391 file name is -  NFI-02303093.png\nforg passed -  39.763805 file name is -  NFI-02301093.png\nforg passed -  38.718815 file name is -  NFI-02305093.png\nforg_passed is  48\ngen_flagged is  75\n",
          "name": "stdout"
        }
      ]
    },
    {
      "metadata": {
        "trusted": true,
        "_uuid": "1dae369f167964dc3639740165603d2a6a8908a2"
      },
      "cell_type": "code",
      "source": "",
      "execution_count": null,
      "outputs": []
    },
    {
      "metadata": {
        "trusted": true,
        "_uuid": "00d347486e3661b94c2272a399d99378945175eb"
      },
      "cell_type": "code",
      "source": "def getfilest(num,gen,forg):\n    a=os.listdir(gen)\n    b=os.listdir(forg)\n    c=str(num)\n    c=c[2:]\n    if(len(c)==2):\n        c=c+\"0\"\n    \n    n,m=[],[]\n    for i in b:\n        if i.endswith(c+\".png\"):\n            n=n+[i]\n        elif i.endswith(c+\".PNG\"):\n            n=n+[i]\n    for i in a:\n        if i.endswith(c+\".png\"):\n            m=m+[i]\n        elif i.endswith(c+\".PNG\"):\n            m=m+[i]\n    return m.pop(),m.pop(),n,m",
      "execution_count": 46,
      "outputs": []
    },
    {
      "metadata": {
        "trusted": true,
        "_uuid": "41d3a8746ae16a3ee1671d67893aacc1b2d75f4d"
      },
      "cell_type": "code",
      "source": "forg_passed=0\ngen_flagged=0\nx=[0.002, 0.008, 0.016, 0.018, 0.024, 0.033, 0.035, 0.044, 0.046, 0.063,\n   0.070, 0.071, 0.077, 0.084, 0.085, 0.086, 0.089, 0.092, 0.093]\n\nfor k in x: #the id of signatures you want to check\n    print(\"When k is \", k)\n    anc1,anc2,neg,pos=getfilest(k,gent,forgt)\n    \n    anchor1=returnimages(gent,anc1)\n    anchor2=returnimages(gent,anc2)\n    for i in range(len(pos)): #pos\n        positive=returnimages(gent,pos[i])\n        x=model.predict([anchor1,positive,anchor2])\n        a1, p, a2 = x[0,0:512], x[0,512:1024], x[0,1024:1536]\n        #dist=sum(a-p)\n        dist1=np.linalg.norm(a1-p)\n        dist2=np.linalg.norm(a2-p)\n        dist=(dist1+dist2)/2\n        #print(\"positive distance is \",dist)\n        if(dist>40):\n        #  print(\"0\")\n            gen_flagged=gen_flagged+1\n            print(\"gen flagged - \",dist, \"file name is - \", pos[i])\n            \n        else:\n            gen_flagged=gen_flagged\n        #   print(\"1\")\n        \n    for j in range(len(neg)): #neg\n        negative=returnimages(forgt,neg[j])\n        x=model.predict([anchor1,negative,anchor2])\n        a1, n, a2 = x[0,0:512], x[0,512:1024], x[0,1024:1536]\n        #dist=sum(a-n)\n        dist1=np.linalg.norm(a1-n)\n        dist2=np.linalg.norm(a2-n)\n        #print(\"negative distance is \",dist)\n        dist=(dist1+dist2)/2\n        if(dist>40):\n            forg_passed=forg_passed\n          #  print(\"0\")\n        else:\n            forg_passed=forg_passed+1\n            print(\"forg passed - \",dist, \"file name is - \", neg[j])\n          #  print(\"1\")\n\nprint(\"forg_passed is \",forg_passed)\nprint(\"gen_flagged is \",gen_flagged)",
      "execution_count": 47,
      "outputs": [
        {
          "output_type": "stream",
          "text": "When k is  0.002\ngen flagged -  42.796905517578125 file name is -  NFI-00209002.png\ngen flagged -  41.309852600097656 file name is -  NFI-00211002.png\ngen flagged -  40.86908721923828 file name is -  NFI-00202002.png\nforg passed -  38.09596252441406 file name is -  NFI-08906002.png\nforg passed -  38.87372589111328 file name is -  NFI-00305002.png\nforg passed -  38.656707763671875 file name is -  NFI-08902002.png\nforg passed -  35.900177001953125 file name is -  NFI-08901002.png\nWhen k is  0.008\ngen flagged -  44.00211715698242 file name is -  NFI-00803008.png\nWhen k is  0.016\ngen flagged -  52.82816696166992 file name is -  NFI-01612016.png\ngen flagged -  40.38568115234375 file name is -  NFI-01601016.png\ngen flagged -  48.24708557128906 file name is -  NFI-01608016.png\ngen flagged -  43.41183853149414 file name is -  NFI-01610016.png\ngen flagged -  55.08385467529297 file name is -  NFI-01609016.png\ngen flagged -  44.06134796142578 file name is -  NFI-01611016.png\nWhen k is  0.018\ngen flagged -  45.876426696777344 file name is -  NFI-01810018.png\ngen flagged -  51.29578399658203 file name is -  NFI-01804018.png\ngen flagged -  50.723941802978516 file name is -  NFI-01801018.png\nWhen k is  0.024\nWhen k is  0.033\nforg passed -  34.49369812011719 file name is -  NFI-01604033.png\nforg passed -  33.449371337890625 file name is -  NFI-05904033.png\nforg passed -  32.70863342285156 file name is -  NFI-02705033.png\nforg passed -  38.37633514404297 file name is -  NFI-01702033.png\nforg passed -  37.65058898925781 file name is -  NFI-02706033.png\nforg passed -  37.18809509277344 file name is -  NFI-02804033.png\nforg passed -  31.232431411743164 file name is -  NFI-01606033.png\nforg passed -  39.015663146972656 file name is -  NFI-02803033.png\nforg passed -  37.768768310546875 file name is -  NFI-02202033.png\nforg passed -  32.300472259521484 file name is -  NFI-02704033.png\nforg passed -  32.21953201293945 file name is -  NFI-02204033.png\nforg passed -  34.1651725769043 file name is -  NFI-01605033.png\nforg passed -  36.32393264770508 file name is -  NFI-05901033.png\nforg passed -  30.410675048828125 file name is -  NFI-02702033.png\nforg passed -  32.72637176513672 file name is -  NFI-02201033.png\nforg passed -  32.150238037109375 file name is -  NFI-02806033.png\nforg passed -  36.481178283691406 file name is -  NFI-02701033.png\nforg passed -  37.86528778076172 file name is -  NFI-02801033.png\nforg passed -  37.54378890991211 file name is -  NFI-05905033.png\nforg passed -  36.33789825439453 file name is -  NFI-02805033.png\nforg passed -  39.57808303833008 file name is -  NFI-01703033.png\nforg passed -  35.06001281738281 file name is -  NFI-01704033.png\nforg passed -  32.65835952758789 file name is -  NFI-02802033.png\nforg passed -  34.28404235839844 file name is -  NFI-01603033.png\nWhen k is  0.035\ngen flagged -  45.151466369628906 file name is -  NFI-03503035.png\ngen flagged -  40.61848449707031 file name is -  NFI-03505035.png\ngen flagged -  43.43022537231445 file name is -  NFI-03502035.png\ngen flagged -  40.47788619995117 file name is -  NFI-03510035.png\ngen flagged -  40.403900146484375 file name is -  NFI-03506035.png\ngen flagged -  41.5111083984375 file name is -  NFI-03504035.png\ngen flagged -  43.494483947753906 file name is -  NFI-03507035.png\nWhen k is  0.044\nWhen k is  0.046\nWhen k is  0.063\ngen flagged -  40.6416015625 file name is -  NFI-06307063.png\ngen flagged -  44.75684356689453 file name is -  NFI-06305063.png\ngen flagged -  44.40190505981445 file name is -  NFI-06312063.png\ngen flagged -  41.412750244140625 file name is -  NFI-06310063.png\nWhen k is  0.07\ngen flagged -  43.030006408691406 file name is -  NFI-07005070.png\ngen flagged -  46.74805450439453 file name is -  NFI-07010070.png\ngen flagged -  44.43335723876953 file name is -  NFI-07007070.png\ngen flagged -  46.85437774658203 file name is -  NFI-07003070.png\ngen flagged -  44.068782806396484 file name is -  NFI-07011070.png\ngen flagged -  48.03824996948242 file name is -  NFI-07002070.png\ngen flagged -  50.186676025390625 file name is -  NFI-07006070.png\ngen flagged -  54.38675308227539 file name is -  NFI-07001070.png\ngen flagged -  46.85502624511719 file name is -  NFI-07008070.png\ngen flagged -  44.77574157714844 file name is -  NFI-07004070.png\nWhen k is  0.071\ngen flagged -  53.94286346435547 file name is -  NFI-07106071.png\nforg passed -  39.342262268066406 file name is -  NFI-07401071.png\nforg passed -  37.26948547363281 file name is -  NFI-07404071.png\nforg passed -  39.34263229370117 file name is -  NFI-07403071.png\nforg passed -  39.51683044433594 file name is -  NFI-07402071.png\nWhen k is  0.077\ngen flagged -  40.549652099609375 file name is -  NFI-07705077.png\ngen flagged -  47.87413024902344 file name is -  NFI-07710077.png\ngen flagged -  44.51713562011719 file name is -  NFI-07709077.png\ngen flagged -  42.97023391723633 file name is -  NFI-07703077.png\ngen flagged -  40.64067840576172 file name is -  NFI-07712077.png\nWhen k is  0.084\ngen flagged -  52.68086242675781 file name is -  NFI-08411084.png\ngen flagged -  61.83452606201172 file name is -  NFI-08407084.png\ngen flagged -  40.86207580566406 file name is -  NFI-08401084.png\nWhen k is  0.085\ngen flagged -  40.887123107910156 file name is -  NFI-08504085.png\ngen flagged -  52.72809600830078 file name is -  NFI-08512085.png\ngen flagged -  45.98793029785156 file name is -  NFI-08502085.png\ngen flagged -  42.67060470581055 file name is -  NFI-08501085.png\ngen flagged -  50.52781677246094 file name is -  NFI-08505085.png\ngen flagged -  42.5023078918457 file name is -  NFI-08510085.png\ngen flagged -  47.09235763549805 file name is -  NFI-08503085.png\nWhen k is  0.086\ngen flagged -  61.77429962158203 file name is -  NFI-08601086.png\ngen flagged -  44.85386657714844 file name is -  NFI-08605086.png\ngen flagged -  56.83324432373047 file name is -  NFI-08610086.png\ngen flagged -  59.30622100830078 file name is -  NFI-08611086.png\ngen flagged -  51.42300796508789 file name is -  NFI-08604086.png\ngen flagged -  50.497047424316406 file name is -  NFI-08608086.png\ngen flagged -  44.31690979003906 file name is -  NFI-08609086.png\ngen flagged -  53.19202423095703 file name is -  NFI-08603086.png\ngen flagged -  49.02174377441406 file name is -  NFI-08602086.png\ngen flagged -  45.60337448120117 file name is -  NFI-08606086.png\nWhen k is  0.089\ngen flagged -  41.72178649902344 file name is -  NFI-08904089.png\nforg passed -  38.201534271240234 file name is -  NFI-05901089.png\nforg passed -  38.21820068359375 file name is -  NFI-05902089.png\nWhen k is  0.092\ngen flagged -  43.4044075012207 file name is -  NFI-09205092.png\ngen flagged -  47.55332565307617 file name is -  NFI-09211092.png\ngen flagged -  40.978546142578125 file name is -  NFI-09212092.png\nWhen k is  0.093\ngen flagged -  40.721649169921875 file name is -  NFI-09311093.png\ngen flagged -  41.305809020996094 file name is -  NFI-09302093.png\nforg passed -  39.92509078979492 file name is -  NFI-02302093.png\nforg passed -  39.26091766357422 file name is -  NFI-02304093.png\nforg passed -  36.05174255371094 file name is -  NFI-02303093.png\nforg passed -  37.95133972167969 file name is -  NFI-02306093.png\nforg passed -  38.765625 file name is -  NFI-02305093.png\nforg_passed is  39\ngen_flagged is  66\n",
          "name": "stdout"
        }
      ]
    },
    {
      "metadata": {
        "trusted": true,
        "_uuid": "05e30f3270693b2fe3bf9f5ad2aa640367d21ff9"
      },
      "cell_type": "code",
      "source": "",
      "execution_count": null,
      "outputs": []
    }
  ],
  "metadata": {
    "kernelspec": {
      "display_name": "Python 3",
      "language": "python",
      "name": "python3"
    },
    "language_info": {
      "name": "python",
      "version": "3.6.6",
      "mimetype": "text/x-python",
      "codemirror_mode": {
        "name": "ipython",
        "version": 3
      },
      "pygments_lexer": "ipython3",
      "nbconvert_exporter": "python",
      "file_extension": ".py"
    }
  },
  "nbformat": 4,
  "nbformat_minor": 1
}