{
  "cells": [
    {
      "metadata": {
        "trusted": true,
        "_uuid": "457c8128a0d1b8b87625e42b6796f52fd0441406"
      },
      "cell_type": "code",
      "source": "import os\nimport numpy as np\nimport matplotlib.pyplot as plt\nimport cv2\n\nimport keras\nimport keras.backend as K\nimport tensorflow as tf\nfrom keras import applications\nfrom keras.models import Model\nfrom keras.layers import Flatten, Dense, Input,concatenate\nfrom keras.optimizers import Adam\nfrom keras.models import load_model, model_from_json\n\nimport random\n#from PIL import Image, ImageChops",
      "execution_count": null,
      "outputs": []
    },
    {
      "metadata": {
        "trusted": true,
        "_uuid": "9cff639e3cb35d510d6fc8d08803f3afacbdfc70"
      },
      "cell_type": "code",
      "source": "gen=\"../input/handwritten-signatures/sample_signature/sample_Signature/genuine\"\nforg=\"../input/handwritten-signatures/sample_signature/sample_Signature/forged\"\n\ngentr=\"../input/sigcomp-2009-train/sigcomp 2009 train/Sigcomp 2009 train/genuine\"\nforgtr=\"../input/sigcomp-2009-train/sigcomp 2009 train/Sigcomp 2009 train/forgeries\"\n\ngent=\"../input/sigcomp-2009/sigcomp 2009/genuines\"\nforgt=\"../input/sigcomp-2009/sigcomp 2009/forgeries\"",
      "execution_count": null,
      "outputs": []
    },
    {
      "metadata": {
        "trusted": true,
        "_uuid": "c5d07ba221be20138d4c5dfeaa19b6aa426bf669"
      },
      "cell_type": "code",
      "source": "",
      "execution_count": null,
      "outputs": []
    },
    {
      "metadata": {
        "trusted": true,
        "_uuid": "137ad333bcbf9f7d4a33d3c369d5e32e4b1a093f"
      },
      "cell_type": "code",
      "source": "img_width, img_height, channels = 224, 224, 3\n\ndim = (img_width, img_height)\n\ndef to_rgb(img):\n    img = cv2.resize(img, dim, interpolation = cv2.INTER_AREA) \n    img_rgb = np.asarray(np.dstack((img, img, img)), dtype=np.uint8)\n    return img_rgb\n\ndef returnimages(path,img):\n    image=cv2.imread(path+\"/\"+ img)                  #bringing the image\n    image=cv2.resize(image, (img_width, img_height))\n    image=cv2.cvtColor(image, cv2.COLOR_BGR2GRAY)\n    image=to_rgb(image).reshape(1,img_width, img_height,3)/255.0       #resizing and normalizing    \n    return image     \n\ndef getfiles(num,gen,forg):\n    a=os.listdir(gen)\n    b=os.listdir(forg)\n    c=str(num)\n    c=c[2:]\n    if(len(c)==2):\n        c=c+\"0\"\n    \n    n,m=[],[]\n    for i in b:\n        if i.endswith(c+\".png\"):\n            n=n+[i]\n        elif i.endswith(c+\".PNG\"):\n            n=n+[i]\n    for i in a:\n        if i.endswith(c+\".png\"):\n            m=m+[i]\n        elif i.endswith(c+\".PNG\"):\n            m=m+[i]\n    return m.pop(),n,m\n\ndef getfiles2(num):\n    a=os.listdir(gentr)\n    b=os.listdir(forgtr)\n    c=str(num)\n    c=c[2:]\n    if(len(c)==2):\n        c=c+\"0\"\n    n,m=[],[]\n    for i in b:\n        if (i.endswith(c+\"_001_6g.png\") or i.endswith(c+\"_002_6g.png\") or i.endswith(c+\"_003_6g.png\")\n            or i.endswith(c+\"_004_6g.png\") or i.endswith(c+\"_005_6g.png\")):\n            n=n+[i]\n        elif (i.endswith(c+\"_001_6g.PNG\") or i.endswith(c+\"_002_6g.PNG\") or i.endswith(c+\"_003_6g.PNG\")\n              or i.endswith(c+\"_004_6g.PNG\") or i.endswith(c+\"_005_6g.PNG\")):\n            n=n+[i]\n    for i in a:\n        if (i.endswith(c+\"_001_6g.png\") or i.endswith(c+\"_002_6g.png\") or i.endswith(c+\"_003_6g.png\")\n            or i.endswith(c+\"_004_6g.png\") or i.endswith(c+\"_005_6g.png\")):\n            m=m+[i]\n        elif (i.endswith(c+\"_001_6g.PNG\") or i.endswith(c+\"_002_6g.PNG\") or i.endswith(c+\"_003_6g.PNG\")\n              or i.endswith(c+\"_004_6g.PNG\") or i.endswith(c+\"_005_6g.PNG\")):\n            m=m+[i]\n    return m.pop(),n,m\n\n",
      "execution_count": null,
      "outputs": []
    },
    {
      "metadata": {
        "trusted": true,
        "_uuid": "1f393a960808ce3ae109f652596c119234569929"
      },
      "cell_type": "code",
      "source": "def triplet_loss(y_true, y_pred):\n    alpha = 0.5\n    anchor, positive, negative =y_pred[0,0:512], y_pred[0,512:1024], y_pred[0,1024:1536]\n    \n    positive_distance = K.mean(K.square(anchor - positive),axis=-1)\n    negative_distance = K.mean(K.square(anchor - negative),axis=-1)\n    return K.mean(K.maximum(0.0, positive_distance - negative_distance + alpha))",
      "execution_count": null,
      "outputs": []
    },
    {
      "metadata": {
        "trusted": true,
        "_uuid": "a09db907a57305044ee9704496b0baeab0fcfc7f"
      },
      "cell_type": "code",
      "source": "model = applications.vgg19.VGG19(weights='imagenet', include_top=False, pooling='max')",
      "execution_count": null,
      "outputs": []
    },
    {
      "metadata": {
        "trusted": true,
        "_uuid": "678fd9c5a2e7e9a65801419bdbba678b627bc6ee"
      },
      "cell_type": "code",
      "source": "for layer in model.layers[:13]:\n    layer.trainable = False",
      "execution_count": null,
      "outputs": []
    },
    {
      "metadata": {
        "trusted": true,
        "_uuid": "a8df697932a42e3d3a4de7b628fa714de636672c"
      },
      "cell_type": "code",
      "source": "anchor_in = Input(shape=(img_width, img_height, channels))\npos_in = Input(shape=(img_width, img_height, channels))\nneg_in = Input(shape=(img_width, img_height, channels))\n\nanchor_out = model(anchor_in)\npos_out = model(pos_in)\nneg_out = model(neg_in)\nmerged_vector = concatenate([anchor_out, pos_out, neg_out],axis=1)",
      "execution_count": null,
      "outputs": []
    },
    {
      "metadata": {
        "trusted": true,
        "_uuid": "6895eb65489e99a300ff26a22bcc9f2f861a7954"
      },
      "cell_type": "code",
      "source": "model = Model(inputs=[anchor_in, pos_in, neg_in], outputs=merged_vector)",
      "execution_count": null,
      "outputs": []
    },
    {
      "metadata": {
        "trusted": true,
        "_uuid": "027c3ea08b5899817d170e023ade9d3ba5f91ee3"
      },
      "cell_type": "code",
      "source": "model.compile(optimizer=Adam(lr=0.000005),loss=triplet_loss)",
      "execution_count": null,
      "outputs": []
    },
    {
      "metadata": {
        "trusted": true,
        "_uuid": "ff91094e0df6512056bc32dda716681523128370"
      },
      "cell_type": "code",
      "source": "def generator():\n    for i in range(1,31):\n        if(i<10):\n            anc,neg,pos=getfiles(float(\"0.00\"+str(i)),gen,forg)\n        else:\n            anc,neg,pos=getfiles(float(\"0.0\"+str(i)),gen,forg)\n        for i in range(len(neg)):\n            for j in range(len(pos)):\n                anchor=returnimages(gen,anc)\n                positive=returnimages(gen,pos[j])\n                negative=returnimages(forg,neg[i])\n               # yield ([anc,pos[j],neg[i]],[0])\n                yield ([anchor,positive,negative],[0])",
      "execution_count": null,
      "outputs": []
    },
    {
      "metadata": {
        "trusted": true,
        "_uuid": "63886c6513ed93c4aef5948709a1526b7805b41d",
        "scrolled": true
      },
      "cell_type": "code",
      "source": "for x in range(1):\n    model.fit_generator(generator(),steps_per_epoch=200,epochs=3)",
      "execution_count": null,
      "outputs": []
    },
    {
      "metadata": {
        "trusted": true,
        "_uuid": "d1da456878abf6805e1553787c5edeb2732b661a"
      },
      "cell_type": "code",
      "source": "",
      "execution_count": null,
      "outputs": []
    },
    {
      "metadata": {
        "trusted": true,
        "_uuid": "795a8d9749c7dfa0ec9dba7811192c3a47a21fdf"
      },
      "cell_type": "code",
      "source": "model.compile(optimizer=Adam(lr=0.000002),loss=triplet_loss)",
      "execution_count": null,
      "outputs": []
    },
    {
      "metadata": {
        "trusted": true,
        "_uuid": "f6566cfba2425a96bd98558e8b10b3880862266a"
      },
      "cell_type": "code",
      "source": "def generator2():\n    x=[\"0.001\",\"0.004\", \"0.005\", \"0.006\", \"0.007\",\n       \"0.008\", \"0.009\", \"0.010\", \"0.011\", \"0.001\", \"0.011\"]\n  #  x=[\"0.001\", \"0.004\", \"0.006\", \"0.010\"]\n\n    for k in x:\n        anc,neg,pos=getfiles2(k)\n        frac=0.95    \n        inds = set(random.sample(list(range(len(neg))), int(frac*len(neg))))\n        neg = [n for i,n in enumerate(neg) if i not in inds]\n    \n        for i in range(len(neg)):\n            for j in range(len(pos)):\n                anchor=returnimages(gentr,anc)\n                positive=returnimages(gentr,pos[j])\n                negative=returnimages(forgtr,neg[i])\n               # yield ([anc,pos[j],neg[i]])\n                yield ([anchor,positive,negative],[0])",
      "execution_count": null,
      "outputs": []
    },
    {
      "metadata": {
        "trusted": true,
        "_uuid": "d31556b88d8eb42a38acb6e5cd2b7f2fe4d06ec4"
      },
      "cell_type": "code",
      "source": "for x in range(1):\n    model.fit_generator(generator2(),steps_per_epoch=32,epochs=11)",
      "execution_count": null,
      "outputs": []
    },
    {
      "metadata": {
        "trusted": true,
        "_uuid": "e94b4d63ec1dc87b541faccee5e154e7efab5783"
      },
      "cell_type": "code",
      "source": "",
      "execution_count": null,
      "outputs": []
    },
    {
      "metadata": {
        "trusted": true,
        "_uuid": "083730c5a1391421b3150e4d710be5020fe6e655"
      },
      "cell_type": "code",
      "source": "tneg,tpos=0,0\nx=[0.002, 0.008, 0.016, 0.018, 0.024, 0.033, 0.035, 0.044, 0.046, 0.063,\n   0.070, 0.071, 0.077, 0.084, 0.085, 0.086, 0.089, 0.092, 0.093]\nfor k in x: #the id of signatures you want to check\n    #print(\"When k is \", k)\n    anc,neg,pos=getfiles(k,gent,forgt)\n    tneg=tneg+len(neg)\n    tpos=tpos+len(pos)\nprint(tneg,tpos)",
      "execution_count": null,
      "outputs": []
    },
    {
      "metadata": {
        "trusted": true,
        "_uuid": "6f170046a2263ec6f01ebfb24446db32067c3a49"
      },
      "cell_type": "code",
      "source": "os.listdir('../working')",
      "execution_count": null,
      "outputs": []
    },
    {
      "metadata": {
        "trusted": true,
        "_uuid": "9f0d5dca740c8e6729089918b780e85c17726203"
      },
      "cell_type": "code",
      "source": "# Save the weights\nmodel.save_weights('model_weights.h5')\n\n# Save the model architecture\n#with open('model_architecture.json', 'w') as f:\n#    f.write(model.to_json())",
      "execution_count": null,
      "outputs": []
    },
    {
      "metadata": {
        "trusted": true,
        "_uuid": "b56de28559d8ac142520ac3d188a369b192f3f7c"
      },
      "cell_type": "code",
      "source": "os.listdir('../working')",
      "execution_count": null,
      "outputs": []
    },
    {
      "metadata": {
        "trusted": true,
        "_uuid": "0b7ef84ba74b068677ff72ebdd85de4177a7a426"
      },
      "cell_type": "code",
      "source": "model.load_weights('../working/model_weights.h5')",
      "execution_count": null,
      "outputs": []
    },
    {
      "metadata": {
        "trusted": true,
        "_uuid": "4c910d84be0eb10c6f70af9666f9feccafffbecc"
      },
      "cell_type": "code",
      "source": "",
      "execution_count": null,
      "outputs": []
    },
    {
      "metadata": {
        "trusted": true,
        "_uuid": "10ad0b8b91077365cee3938a843101d85bdd9c1d",
        "scrolled": true
      },
      "cell_type": "code",
      "source": "forg_passed=0\ngen_flagged=0\nx=[0.002, 0.008, 0.016, 0.018, 0.024, 0.033, 0.035, 0.044, 0.046, 0.063,\n   0.070, 0.071, 0.077, 0.084, 0.085, 0.086, 0.089, 0.092, 0.093]\n\nfor k in x: #the id of signatures you want to check\n    print(\"When k is \", k)\n    anc,neg,pos=getfiles(k,gent,forgt)\n    \n    anchor=returnimages(gent,anc)\n    for i in range(len(pos)): #pos\n        positive=returnimages(gent,pos[i])\n        x=model.predict([anchor,positive,anchor])\n        a, p, useless = x[0,0:512], x[0,512:1024], x[0,1024:1536]\n        #dist=sum(a-p)\n        dist=np.linalg.norm(a-p)\n        #print(\"positive distance is \",dist)\n        if(dist>40):\n        #  print(\"0\")\n            gen_flagged=gen_flagged+1\n            print(\"gen flagged - \",dist, \"file name is - \", pos[i])\n            \n        else:\n            gen_flagged=gen_flagged\n        #   print(\"1\")\n        \n    for j in range(len(neg)): #neg\n        negative=returnimages(forgt,neg[j])\n        x=model.predict([anchor,negative,anchor])\n        a, n, useless = x[0,0:512], x[0,512:1024], x[0,1024:1536]\n        #dist=sum(a-n)\n        dist=np.linalg.norm(a-n)\n        #print(\"negative distance is \",dist)\n        if(dist>40):\n            forg_passed=forg_passed\n          #  print(\"0\")\n        else:\n            forg_passed=forg_passed+1\n            print(\"forg passed - \",dist, \"file name is - \", neg[j])\n          #  print(\"1\")\n\nprint(\"forg_passed is \",forg_passed)\nprint(\"gen_flagged is \",gen_flagged)",
      "execution_count": null,
      "outputs": []
    },
    {
      "metadata": {
        "trusted": true,
        "_uuid": "1dae369f167964dc3639740165603d2a6a8908a2"
      },
      "cell_type": "code",
      "source": "",
      "execution_count": null,
      "outputs": []
    },
    {
      "metadata": {
        "trusted": true,
        "_uuid": "00d347486e3661b94c2272a399d99378945175eb"
      },
      "cell_type": "code",
      "source": "def getfilest(num,gen,forg):\n    a=os.listdir(gen)\n    b=os.listdir(forg)\n    c=str(num)\n    c=c[2:]\n    if(len(c)==2):\n        c=c+\"0\"\n    \n    n,m=[],[]\n    for i in b:\n        if i.endswith(c+\".png\"):\n            n=n+[i]\n        elif i.endswith(c+\".PNG\"):\n            n=n+[i]\n    for i in a:\n        if i.endswith(c+\".png\"):\n            m=m+[i]\n        elif i.endswith(c+\".PNG\"):\n            m=m+[i]\n    return m.pop(),m.pop(),n,m",
      "execution_count": null,
      "outputs": []
    },
    {
      "metadata": {
        "trusted": true,
        "_uuid": "41d3a8746ae16a3ee1671d67893aacc1b2d75f4d"
      },
      "cell_type": "code",
      "source": "forg_passed=0\ngen_flagged=0\nx=[0.002, 0.008, 0.016, 0.018, 0.024, 0.033, 0.035, 0.044, 0.046, 0.063,\n   0.070, 0.071, 0.077, 0.084, 0.085, 0.086, 0.089, 0.092, 0.093]\n\nfor k in x: #the id of signatures you want to check\n    print(\"When k is \", k)\n    anc1,anc2,neg,pos=getfilest(k,gent,forgt)\n    \n    anchor1=returnimages(gent,anc1)\n    anchor2=returnimages(gent,anc2)\n    for i in range(len(pos)): #pos\n        positive=returnimages(gent,pos[i])\n        x=model.predict([anchor1,positive,anchor2])\n        a1, p, a2 = x[0,0:512], x[0,512:1024], x[0,1024:1536]\n        #dist=sum(a-p)\n        dist1=np.linalg.norm(a1-p)\n        dist2=np.linalg.norm(a2-p)\n        dist=(dist1+dist2)/2\n        #print(\"positive distance is \",dist)\n        if(dist>40):\n        #  print(\"0\")\n            gen_flagged=gen_flagged+1\n            print(\"gen flagged - \",dist, \"file name is - \", pos[i])\n            \n        else:\n            gen_flagged=gen_flagged\n        #   print(\"1\")\n        \n    for j in range(len(neg)): #neg\n        negative=returnimages(forgt,neg[j])\n        x=model.predict([anchor1,negative,anchor2])\n        a1, n, a2 = x[0,0:512], x[0,512:1024], x[0,1024:1536]\n        #dist=sum(a-n)\n        dist1=np.linalg.norm(a1-n)\n        dist2=np.linalg.norm(a2-n)\n        #print(\"negative distance is \",dist)\n        dist=(dist1+dist2)/2\n        if(dist>40):\n            forg_passed=forg_passed\n          #  print(\"0\")\n        else:\n            forg_passed=forg_passed+1\n            print(\"forg passed - \",dist, \"file name is - \", neg[j])\n          #  print(\"1\")\n\nprint(\"forg_passed is \",forg_passed)\nprint(\"gen_flagged is \",gen_flagged)",
      "execution_count": null,
      "outputs": []
    },
    {
      "metadata": {
        "trusted": true,
        "_uuid": "05e30f3270693b2fe3bf9f5ad2aa640367d21ff9"
      },
      "cell_type": "code",
      "source": "",
      "execution_count": null,
      "outputs": []
    }
  ],
  "metadata": {
    "kernelspec": {
      "display_name": "Python 3",
      "language": "python",
      "name": "python3"
    },
    "language_info": {
      "name": "python",
      "version": "3.6.6",
      "mimetype": "text/x-python",
      "codemirror_mode": {
        "name": "ipython",
        "version": 3
      },
      "pygments_lexer": "ipython3",
      "nbconvert_exporter": "python",
      "file_extension": ".py"
    }
  },
  "nbformat": 4,
  "nbformat_minor": 1
}