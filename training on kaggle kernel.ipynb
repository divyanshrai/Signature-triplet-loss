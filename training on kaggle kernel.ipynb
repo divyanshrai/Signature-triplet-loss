{
 "cells": [
  {
   "cell_type": "code",
   "execution_count": null,
   "metadata": {
    "_uuid": "457c8128a0d1b8b87625e42b6796f52fd0441406"
   },
   "outputs": [],
   "source": [
    "import os\n",
    "import numpy as np\n",
    "import matplotlib.pyplot as plt\n",
    "import cv2\n",
    "\n",
    "import keras\n",
    "import keras.backend as K\n",
    "import tensorflow as tf\n",
    "from keras import applications\n",
    "from keras.models import Model\n",
    "from keras.layers import Flatten, Dense, Input,concatenate\n",
    "from keras.optimizers import Adam\n",
    "from keras.models import load_model, model_from_json\n",
    "\n",
    "import random\n",
    "#from PIL import Image, ImageChops"
   ]
  },
  {
   "cell_type": "code",
   "execution_count": null,
   "metadata": {
    "_uuid": "9cff639e3cb35d510d6fc8d08803f3afacbdfc70"
   },
   "outputs": [],
   "source": [
    "#specifing directories containing the two training set and one testing set images \n",
    "\n",
    "gen=\"../input/handwritten-signatures/sample_signature/sample_Signature/genuine\"\n",
    "forg=\"../input/handwritten-signatures/sample_signature/sample_Signature/forged\"\n",
    "\n",
    "gentr=\"../input/sigcomp-2009-train/sigcomp 2009 train/Sigcomp 2009 train/genuine\"\n",
    "forgtr=\"../input/sigcomp-2009-train/sigcomp 2009 train/Sigcomp 2009 train/forgeries\""
   ]
  },
  {
   "cell_type": "code",
   "execution_count": null,
   "metadata": {
    "_uuid": "c5d07ba221be20138d4c5dfeaa19b6aa426bf669"
   },
   "outputs": [],
   "source": []
  },
  {
   "cell_type": "code",
   "execution_count": null,
   "metadata": {
    "_uuid": "137ad333bcbf9f7d4a33d3c369d5e32e4b1a093f"
   },
   "outputs": [],
   "source": [
    "img_width, img_height, channels = 224, 224, 3\n",
    "\n",
    "dim = (img_width, img_height)\n",
    "\n",
    "#converting a greayscale image to a pseudo rbg format\n",
    "\n",
    "def to_rgb(img):\n",
    "    img = cv2.resize(img, dim, interpolation = cv2.INTER_AREA) \n",
    "    img_rgb = np.asarray(np.dstack((img, img, img)), dtype=np.uint8)\n",
    "    return img_rgb\n",
    "\n",
    "\n",
    "#function for getting images and resizing, normalizing etc. \n",
    "\n",
    "def returnimages(path,img):\n",
    "    image=cv2.imread(path+\"/\"+ img)                  #bringing the image\n",
    "    image=cv2.resize(image, (img_width, img_height))\n",
    "    image=cv2.cvtColor(image, cv2.COLOR_BGR2GRAY)\n",
    "    image=to_rgb(image).reshape(1,img_width, img_height,3)/255.0       #resizing and normalizing    \n",
    "    return image     \n",
    "\n",
    "#two functions for getting anchor, positive and negative images as every folder type and images naming conventions are different\n",
    "\n",
    "def getfiles(num,gen,forg):\n",
    "    a=os.listdir(gen)\n",
    "    b=os.listdir(forg)\n",
    "    c=str(num)\n",
    "    c=c[2:]\n",
    "    if(len(c)==2):\n",
    "        c=c+\"0\"\n",
    "    \n",
    "    n,m=[],[]\n",
    "    for i in b:\n",
    "        if i.endswith(c+\".png\"):\n",
    "            n=n+[i]\n",
    "        elif i.endswith(c+\".PNG\"):\n",
    "            n=n+[i]\n",
    "    for i in a:\n",
    "        if i.endswith(c+\".png\"):\n",
    "            m=m+[i]\n",
    "        elif i.endswith(c+\".PNG\"):\n",
    "            m=m+[i]\n",
    "    return m.pop(),n,m\n",
    "\n",
    "def getfiles2(num):\n",
    "    a=os.listdir(gentr)\n",
    "    b=os.listdir(forgtr)\n",
    "    c=str(num)\n",
    "    c=c[2:]\n",
    "    if(len(c)==2):\n",
    "        c=c+\"0\"\n",
    "    n,m=[],[]\n",
    "    for i in b:\n",
    "        if (i.endswith(c+\"_001_6g.png\") or i.endswith(c+\"_002_6g.png\") or i.endswith(c+\"_003_6g.png\")\n",
    "            or i.endswith(c+\"_004_6g.png\") or i.endswith(c+\"_005_6g.png\")):\n",
    "            n=n+[i]\n",
    "        elif (i.endswith(c+\"_001_6g.PNG\") or i.endswith(c+\"_002_6g.PNG\") or i.endswith(c+\"_003_6g.PNG\")\n",
    "              or i.endswith(c+\"_004_6g.PNG\") or i.endswith(c+\"_005_6g.PNG\")):\n",
    "            n=n+[i]\n",
    "    for i in a:\n",
    "        if (i.endswith(c+\"_001_6g.png\") or i.endswith(c+\"_002_6g.png\") or i.endswith(c+\"_003_6g.png\")\n",
    "            or i.endswith(c+\"_004_6g.png\") or i.endswith(c+\"_005_6g.png\")):\n",
    "            m=m+[i]\n",
    "        elif (i.endswith(c+\"_001_6g.PNG\") or i.endswith(c+\"_002_6g.PNG\") or i.endswith(c+\"_003_6g.PNG\")\n",
    "              or i.endswith(c+\"_004_6g.PNG\") or i.endswith(c+\"_005_6g.PNG\")):\n",
    "            m=m+[i]\n",
    "    return m.pop(),n,m\n",
    "\n"
   ]
  },
  {
   "cell_type": "code",
   "execution_count": null,
   "metadata": {
    "_uuid": "1f393a960808ce3ae109f652596c119234569929"
   },
   "outputs": [],
   "source": [
    "#a custom triplet loss fucntion as keras doesn't provide one\n",
    "\n",
    "def triplet_loss(y_true, y_pred):\n",
    "    alpha = 0.5\n",
    "    anchor, positive, negative =y_pred[0,0:512], y_pred[0,512:1024], y_pred[0,1024:1536]\n",
    "    \n",
    "    positive_distance = K.mean(K.square(anchor - positive),axis=-1)\n",
    "    negative_distance = K.mean(K.square(anchor - negative),axis=-1)\n",
    "    return K.mean(K.maximum(0.0, positive_distance - negative_distance + alpha))"
   ]
  },
  {
   "cell_type": "code",
   "execution_count": null,
   "metadata": {
    "_uuid": "a09db907a57305044ee9704496b0baeab0fcfc7f"
   },
   "outputs": [],
   "source": [
    "#importing pretrained model\n",
    "model = applications.vgg19.VGG19(weights='imagenet', include_top=False, pooling='max')"
   ]
  },
  {
   "cell_type": "code",
   "execution_count": null,
   "metadata": {
    "_uuid": "678fd9c5a2e7e9a65801419bdbba678b627bc6ee"
   },
   "outputs": [],
   "source": [
    "#freezing starting layers to retain feature extraction as tranfer learning\n",
    "\n",
    "for layer in model.layers[:15]:\n",
    "    layer.trainable = False"
   ]
  },
  {
   "cell_type": "code",
   "execution_count": null,
   "metadata": {
    "_uuid": "a8df697932a42e3d3a4de7b628fa714de636672c"
   },
   "outputs": [],
   "source": [
    "#customizing model to be able to take triplets as vgg19 only takes in one image at a time\n",
    "\n",
    "anchor_in = Input(shape=(img_width, img_height, channels))\n",
    "pos_in = Input(shape=(img_width, img_height, channels))\n",
    "neg_in = Input(shape=(img_width, img_height, channels))\n",
    "\n",
    "anchor_out = model(anchor_in)\n",
    "pos_out = model(pos_in)\n",
    "neg_out = model(neg_in)\n",
    "merged_vector = concatenate([anchor_out, pos_out, neg_out],axis=1)"
   ]
  },
  {
   "cell_type": "code",
   "execution_count": null,
   "metadata": {
    "_uuid": "6895eb65489e99a300ff26a22bcc9f2f861a7954"
   },
   "outputs": [],
   "source": [
    "model = Model(inputs=[anchor_in, pos_in, neg_in], outputs=merged_vector)"
   ]
  },
  {
   "cell_type": "code",
   "execution_count": null,
   "metadata": {
    "_uuid": "027c3ea08b5899817d170e023ade9d3ba5f91ee3"
   },
   "outputs": [],
   "source": [
    "model.compile(optimizer=Adam(lr=0.000005),loss=triplet_loss)"
   ]
  },
  {
   "cell_type": "code",
   "execution_count": null,
   "metadata": {
    "_uuid": "ff91094e0df6512056bc32dda716681523128370"
   },
   "outputs": [],
   "source": [
    "#defining generator functions to save RAM!\n",
    "\n",
    "def generator():\n",
    "    for i in range(1,31):\n",
    "        if(i<10):\n",
    "            anc,neg,pos=getfiles(float(\"0.00\"+str(i)),gen,forg)\n",
    "        else:\n",
    "            anc,neg,pos=getfiles(float(\"0.0\"+str(i)),gen,forg)\n",
    "        for i in range(len(neg)):\n",
    "            for j in range(len(pos)):\n",
    "                anchor=returnimages(gen,anc)\n",
    "                positive=returnimages(gen,pos[j])\n",
    "                negative=returnimages(forg,neg[i])\n",
    "               # yield ([anc,pos[j],neg[i]],[0])\n",
    "                yield ([anchor,positive,negative],[0])"
   ]
  },
  {
   "cell_type": "code",
   "execution_count": null,
   "metadata": {
    "_uuid": "63886c6513ed93c4aef5948709a1526b7805b41d",
    "scrolled": true
   },
   "outputs": [],
   "source": [
    "#fitting it over the sample traning data\n",
    "\n",
    "for x in range(2):\n",
    "    model.fit_generator(generator(),steps_per_epoch=200,epochs=3)"
   ]
  },
  {
   "cell_type": "code",
   "execution_count": null,
   "metadata": {
    "_uuid": "d1da456878abf6805e1553787c5edeb2732b661a"
   },
   "outputs": [],
   "source": []
  },
  {
   "cell_type": "code",
   "execution_count": null,
   "metadata": {
    "_uuid": "795a8d9749c7dfa0ec9dba7811192c3a47a21fdf"
   },
   "outputs": [],
   "source": [
    "#compiling the model again with lower learning rate as it has mostly learnt the features\n",
    "\n",
    "model.compile(optimizer=Adam(lr=0.000002),loss=triplet_loss)"
   ]
  },
  {
   "cell_type": "code",
   "execution_count": null,
   "metadata": {
    "_uuid": "f6566cfba2425a96bd98558e8b10b3880862266a"
   },
   "outputs": [],
   "source": [
    "def generator2():\n",
    "    x=[\"0.001\",\"0.004\", \"0.005\", \"0.006\", \"0.007\",\n",
    "       \"0.008\", \"0.009\", \"0.010\", \"0.011\", \"0.001\", \"0.010\"]\n",
    "  #  x=[\"0.001\", \"0.004\", \"0.006\", \"0.010\"]\n",
    "\n",
    "    for k in x:\n",
    "        anc,neg,pos=getfiles2(k)\n",
    "        frac=0.95    \n",
    "        inds = set(random.sample(list(range(len(neg))), int(frac*len(neg))))\n",
    "        neg = [n for i,n in enumerate(neg) if i not in inds]\n",
    "    \n",
    "        for i in range(len(neg)):\n",
    "            for j in range(len(pos)):\n",
    "                anchor=returnimages(gentr,anc)\n",
    "                positive=returnimages(gentr,pos[j])\n",
    "                negative=returnimages(forgtr,neg[i])\n",
    "               # yield ([anc,pos[j],neg[i]])\n",
    "                yield ([anchor,positive,negative],[0])"
   ]
  },
  {
   "cell_type": "code",
   "execution_count": null,
   "metadata": {
    "_uuid": "d31556b88d8eb42a38acb6e5cd2b7f2fe4d06ec4"
   },
   "outputs": [],
   "source": [
    "for x in range(2):\n",
    "    model.fit_generator(generator2(),steps_per_epoch=32,epochs=11)"
   ]
  },
  {
   "cell_type": "code",
   "execution_count": null,
   "metadata": {
    "_uuid": "e94b4d63ec1dc87b541faccee5e154e7efab5783"
   },
   "outputs": [],
   "source": []
  },
  {
   "cell_type": "code",
   "execution_count": null,
   "metadata": {},
   "outputs": [],
   "source": [
    "#next three cells just check whether or not the model weights are being saved"
   ]
  },
  {
   "cell_type": "code",
   "execution_count": null,
   "metadata": {
    "_uuid": "6f170046a2263ec6f01ebfb24446db32067c3a49"
   },
   "outputs": [],
   "source": [
    "os.listdir('../working')"
   ]
  },
  {
   "cell_type": "code",
   "execution_count": null,
   "metadata": {
    "_uuid": "9f0d5dca740c8e6729089918b780e85c17726203"
   },
   "outputs": [],
   "source": [
    "# Save the weights\n",
    "model.save_weights('model_weights.h5')\n",
    "\n",
    "# Save the model architecture\n",
    "#with open('model_architecture.json', 'w') as f:\n",
    "#    f.write(model.to_json())"
   ]
  },
  {
   "cell_type": "code",
   "execution_count": null,
   "metadata": {
    "_uuid": "b56de28559d8ac142520ac3d188a369b192f3f7c"
   },
   "outputs": [],
   "source": [
    "os.listdir('../working')"
   ]
  },
  {
   "cell_type": "code",
   "execution_count": null,
   "metadata": {
    "_uuid": "05e30f3270693b2fe3bf9f5ad2aa640367d21ff9"
   },
   "outputs": [],
   "source": []
  }
 ],
 "metadata": {
  "kernelspec": {
   "display_name": "Python 3",
   "language": "python",
   "name": "python3"
  },
  "language_info": {
   "codemirror_mode": {
    "name": "ipython",
    "version": 3
   },
   "file_extension": ".py",
   "mimetype": "text/x-python",
   "name": "python",
   "nbconvert_exporter": "python",
   "pygments_lexer": "ipython3",
   "version": "3.6.5"
  }
 },
 "nbformat": 4,
 "nbformat_minor": 1
}
